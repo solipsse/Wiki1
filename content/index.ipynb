{
 "cells": [
  {
   "attachments": {},
   "cell_type": "markdown",
   "metadata": {},
   "source": [
    "# Home\n",
    "Welcome to the wiki's home.\n",
    "\n",
    "## Subjects\n",
    "- [Math](./Mathematic/Math-wiki.ipynb)\n",
    "- [Physic](./Physic/Physic-wiki.ipynb)\n",
    "- [CS](./Computing/CS-wiki.ipynb)\n",
    "- [CS for AS/A2 Level](./AS-A2-CS/CS-wiki.ipynb)\n",
    "## Tool and Language References\n",
    "- Bash\n",
    "- git\n",
    "- Python\n",
    "- Latex\n",
    "- C++\n",
    "- Linux (How to setup linux)\n",
    "## Specific Library References\n",
    "- Python\n",
    "  - Matplotlib\n",
    "  - Numpy\n"
   ]
  },
  {
   "cell_type": "markdown",
   "metadata": {},
   "source": [
    "##"
   ]
  },
  {
   "cell_type": "markdown",
   "metadata": {},
   "source": [
    "\n"
   ]
  },
  {
   "cell_type": "markdown",
   "metadata": {},
   "source": []
  }
 ],
 "metadata": {
  "language_info": {
   "name": "python"
  },
  "orig_nbformat": 4
 },
 "nbformat": 4,
 "nbformat_minor": 2
}
