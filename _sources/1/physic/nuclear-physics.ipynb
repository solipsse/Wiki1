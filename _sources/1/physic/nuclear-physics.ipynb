{
  "cells": [
    {
      "cell_type": "markdown",
      "metadata": {},
      "source": [
        "> [Main Wiki](physic.ipynb)"
      ]
    },
    {
      "cell_type": "markdown",
      "metadata": {},
      "source": [
        "# Nuclear Physics\n",
        "## 1. Radioactivity\n",
        "### Alpha, Beta, Gamma Decay\n",
        "### Half-Life\n",
        "### Radiation Detection\n",
        "---\n",
        "## 2. Nuclear Reactions\n",
        "### Fission\n",
        "### Fusion\n",
        "### Nuclear Chain Reactions\n",
        "---\n",
        "## 3. Applications\n",
        "### Nuclear Power\n",
        "### Medical Imaging\n",
        "### Nuclear Weapons\n",
        "---"
      ]
    },
    {
      "cell_type": "code",
      "execution_count": null,
      "metadata": {
        "trusted": true
      },
      "outputs": [],
      "source": []
    }
  ],
  "metadata": {
    "kernelspec": {
      "display_name": "Python (Pyodide)",
      "language": "python",
      "name": "python"
    },
    "language_info": {
      "codemirror_mode": {
        "name": "python",
        "version": 3
      },
      "file_extension": ".py",
      "mimetype": "text/x-python",
      "name": "python",
      "nbconvert_exporter": "python",
      "pygments_lexer": "ipython3",
      "version": "3.8"
    }
  },
  "nbformat": 4,
  "nbformat_minor": 4
}
