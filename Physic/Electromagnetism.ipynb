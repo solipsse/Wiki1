{
  "metadata": {
    "kernelspec": {
      "name": "python",
      "display_name": "Python (Pyodide)",
      "language": "python"
    },
    "language_info": {
      "codemirror_mode": {
        "name": "python",
        "version": 3
      },
      "file_extension": ".py",
      "mimetype": "text/x-python",
      "name": "python",
      "nbconvert_exporter": "python",
      "pygments_lexer": "ipython3",
      "version": "3.8"
    }
  },
  "nbformat_minor": 4,
  "nbformat": 4,
  "cells": [
    {
      "cell_type": "markdown",
      "source": "[Physic Wiki](Physic-wiki.ipynb)",
      "metadata": {}
    },
    {
      "cell_type": "markdown",
      "source": "# Electromagnetism\n## 1. Electrostatics\n### Electric Charge\n### Electric Field\n### Gauss's Law\n### Electric Potential\n---\n## 2. Electric Circuits\n### Ohm's Law\n### Series and Parallel Circuits\n### Kirchhoff's Laws\n### Capacitance and Inductance\n---\n## 3. Magnetism\n### Magnetic Fields\n### Electromagnetic Induction\n### Faraday's Law\n### Lenz's Law\n---\n## 4. Electromagnetic Waves\n### Maxwell's Equations\n### Wave Propagation\n### Spectrum of Electromagnetic Waves\n---",
      "metadata": {}
    }
  ]
}