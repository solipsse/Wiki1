{
  "cells": [
    {
      "cell_type": "markdown",
      "metadata": {},
      "source": [
        "> [Main Wiki](math.md)"
      ]
    },
    {
      "cell_type": "markdown",
      "metadata": {},
      "source": [
        "# Combinatorics\n",
        "\n",
        "## 1. Counting Principles\n",
        "\n",
        "Following the upcoming principles to be discussed will ease our counting that where we can find the method to take immediately. We will borrow some logics as well!\n",
        "\n",
        "### Is it distinguisable?\n",
        "\n",
        "A distinguisable object is unique.\n",
        "- Distinct people\n",
        "- Distinct solutions\n",
        "- [Distinct set](#Combination) of arrangement.\n",
        "\n",
        "### Are there replacement?\n",
        "\n",
        "$\\overline{replacement} \\to$ $\\Delta( n(success)$[^1] and $ n(possible))$. Thus, $\\Delta(probability)$, and we need to choose our counting method wisely!\n",
        "\n",
        "### Rules of sum and products\n",
        "\n",
        "| |Sum|Product|\n",
        "|-|:-:|:-:|\n",
        "|Logic|$A+B$|$AB$ (A and then B)|\n",
        "|Number of ways|$a+b$|$ab$|\n",
        "\n",
        "```{sidebar} \n",
        "A = first condition  \n",
        "B = second condition\n",
        "\n",
        "\\begin{align*}\n",
        "n(A)=a \\\\\n",
        "n(B)=b\n",
        "\\end{align*}\n",
        "```\n",
        "In general, $add$ when we need to pick one OR another but not simultaneously, and $multiply$ when $\\overline{add}$, i.e. pick one AND another simultaneously.\n",
        "\n",
        "#### Casework Counting and rules of sum\n",
        "\n",
        "Casework is a counting techniques that utilise rules of sum. We looks at all the conditions that match the OR logic and splits them into cases. This can be daunting; having many cases in exam may be a sign that we need to find a smarter way of thinking. For example, complementary counting.\n",
        "\n",
        "### The number of numbers in [a,n]\n",
        "\n",
        "$[1,n]$ has $n$ numbers. As shown:\n",
        "$$ \n",
        "1,2, \\cdots , n\n",
        "$$\n",
        "$[a,n]$ has $n-a+1$ numbers. As shown:\n",
        "\\begin{array}{cccc}\n",
        "a, & a+1, & \\cdots & n\\\\\n",
        "1, & 2, & \\cdots & (n-a)+1\\; \\blacksquare\n",
        "\\end{array}\n",
        "As seen, we take the first sequence and trasform it to a familiar $[1,n]$, where we can read off the amount of number.  \n",
        "This will be useful when deriving formulars of Permutation and Combination.\n",
        "\n",
        "### Arrangement\n",
        "\n",
        "#### Permutation\n",
        "\n",
        "#### Combination\n",
        "\n",
        "### Inclusion-Exclusion Principles\n",
        "\n",
        "#### Overcounting\n",
        "\n",
        "### Complementary Counting\n",
        "\n",
        "### Connstructive Counting\n",
        "\n"
      ]
    },
    {
      "cell_type": "markdown",
      "metadata": {},
      "source": [
        "\n",
        "## 1. Combinatorial Theory (Discrete)\n",
        "### Permutations and combinations\n",
        "### Binomial coefficients\n",
        "### Inclusion-exclusion principle\n",
        "### Generating functions\n",
        "### Recurrence relations\n",
        "### Pigeonhole principle\n",
        "### Combinatorial designs\n",
        "---\n",
        "## 2. Graph Theory (Discrete)\n",
        "### Graphs and digraphs\n",
        "### Trees and spanning trees\n",
        "### Planar graphs\n",
        "### Graph coloring\n",
        "### Network flows\n",
        "### Eulerian and Hamiltonian paths\n",
        "### Graph algorithms\n",
        "---\n",
        "## 3. Combinatorial Optimization (Discrete)\n",
        "### Linear programming\n",
        "### Integer programming\n",
        "### Network optimization\n",
        "### Matroid theory\n",
        "### Approximation algorithms\n",
        "### Polyhedral combinatorics\n",
        "### Cutting planes and branch-and-bound methods\n",
        "---"
      ]
    },
    {
      "cell_type": "markdown",
      "metadata": {
        "trusted": true
      },
      "source": [
        "## Combinatorics prove\n",
        "### Double Counting\n",
        "\n",
        "[1]: To be successful the conditions must match with the conditions for which we are counting."
      ]
    }
  ],
  "metadata": {
    "kernelspec": {
      "display_name": "Python (Pyodide)",
      "language": "python",
      "name": "python"
    },
    "language_info": {
      "codemirror_mode": {
        "name": "python",
        "version": 3
      },
      "file_extension": ".py",
      "mimetype": "text/x-python",
      "name": "python",
      "nbconvert_exporter": "python",
      "pygments_lexer": "ipython3",
      "version": "3.8"
    }
  },
  "nbformat": 4,
  "nbformat_minor": 4
}
