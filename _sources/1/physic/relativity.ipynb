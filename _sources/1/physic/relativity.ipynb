{
  "cells": [
    {
      "cell_type": "markdown",
      "metadata": {},
      "source": [
        "> [Main Wiki](physic.md)"
      ]
    },
    {
      "cell_type": "markdown",
      "metadata": {},
      "source": [
        "# Relativity\n",
        "## 1. Special Relativity\n",
        "### Time Dilation\n",
        "### Length Contraction\n",
        "### Lorentz Transformation\n",
        "### Mass-Energy $E=mc^{2}$\n",
        "\n",
        "---\n",
        "## 2. General Relativity\n",
        "### Curvature of Spacetime\n",
        "### Einstein's Field Equations\n",
        "### Black Holes\n",
        "### Gravitational Waves\n",
        "---"
      ]
    }
  ],
  "metadata": {
    "kernelspec": {
      "display_name": "Python (Pyodide)",
      "language": "python",
      "name": "python"
    },
    "language_info": {
      "codemirror_mode": {
        "name": "python",
        "version": 3
      },
      "file_extension": ".py",
      "mimetype": "text/x-python",
      "name": "python",
      "nbconvert_exporter": "python",
      "pygments_lexer": "ipython3",
      "version": "3.8"
    }
  },
  "nbformat": 4,
  "nbformat_minor": 4
}
