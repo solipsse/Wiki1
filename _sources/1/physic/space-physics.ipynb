{
  "cells": [
    {
      "cell_type": "markdown",
      "metadata": {},
      "source": [
        "> [Main Wiki](physic.ipynb)"
      ]
    },
    {
      "cell_type": "markdown",
      "metadata": {},
      "source": [
        "# Space Physic\n",
        "## 1. Stellar Physics\n",
        "### Star Formation\n",
        "### Stellar Evolution\n",
        "### Supernovae\n",
        "---\n",
        "## 2. Cosmology\n",
        "### Big Bang Theory\n",
        "### Dark Matter\n",
        "### Dark Energy\n",
        "### Cosmic Microwave Background\n",
        "---\n",
        "## 3. Galactic Astronomy\n",
        "### Structure of Galaxies\n",
        "### Black Holes\n",
        "### Galactic Dynamics\n",
        "---"
      ]
    }
  ],
  "metadata": {
    "kernelspec": {
      "display_name": "Python (Pyodide)",
      "language": "python",
      "name": "python"
    },
    "language_info": {
      "codemirror_mode": {
        "name": "python",
        "version": 3
      },
      "file_extension": ".py",
      "mimetype": "text/x-python",
      "name": "python",
      "nbconvert_exporter": "python",
      "pygments_lexer": "ipython3",
      "version": "3.8"
    }
  },
  "nbformat": 4,
  "nbformat_minor": 4
}
