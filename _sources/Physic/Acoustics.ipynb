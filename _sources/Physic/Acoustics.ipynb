{
  "metadata": {
    "kernelspec": {
      "name": "python",
      "display_name": "Python (Pyodide)",
      "language": "python"
    },
    "language_info": {
      "codemirror_mode": {
        "name": "python",
        "version": 3
      },
      "file_extension": ".py",
      "mimetype": "text/x-python",
      "name": "python",
      "nbconvert_exporter": "python",
      "pygments_lexer": "ipython3",
      "version": "3.8"
    }
  },
  "nbformat_minor": 4,
  "nbformat": 4,
  "cells": [
    {
      "cell_type": "markdown",
      "source": "[Physic Wiki](Physic-wiki.ipynb)",
      "metadata": {}
    },
    {
      "cell_type": "markdown",
      "source": "# Acoustics\n## 1. Sound Waves\n### Wave Propagation\n### Sound Intensity\n---\n## 2. Hearing and Speech\n### Human Hearing\n### Acoustic Phonetics\n---\n## 3. Ultrasound\n### Medical Imaging\n### Sonar\n---",
      "metadata": {}
    }
  ]
}