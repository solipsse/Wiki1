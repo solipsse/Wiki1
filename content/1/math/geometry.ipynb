{
  "cells": [
    {
      "cell_type": "markdown",
      "metadata": {},
      "source": [
        "> [Main Wiki](math.ipynb)"
      ]
    },
    {
      "cell_type": "markdown",
      "metadata": {},
      "source": [
        "# Geometry\n",
        "## 1. Euclidean Geometry (Discrete)\n",
        "### Points, lines, and planes\n",
        "### Angles and triangles\n",
        "### Circles and polygons\n",
        "### Congruence and similarity\n",
        "### Coordinate geometry\n",
        "### Conic sections\n",
        "### Geometric transformations\n",
        "---\n",
        "## 2. Differential Geometry (Continuous)\n",
        "### Curves and surfaces\n",
        "### Tangent spaces\n",
        "### Riemannian geometry\n",
        "### Connections and curvature\n",
        "### Geodesics\n",
        "### The Gauss-Bonnet theorem\n",
        "### Differential forms\n",
        "---\n",
        "## 3. Topology (Discrete and Continuous)\n",
        "### Topological spaces and continuous functions\n",
        "### Basis and sub-basis\n",
        "### Compactness and connectedness\n",
        "### Fundamental group and covering spaces\n",
        "### Homology and cohomology\n",
        "### Manifolds\n",
        "### Homotopy theory\n",
        "---"
      ]
    },
    {
      "cell_type": "code",
      "execution_count": null,
      "metadata": {
        "trusted": true
      },
      "outputs": [],
      "source": []
    }
  ],
  "metadata": {
    "kernelspec": {
      "display_name": "Python (Pyodide)",
      "language": "python",
      "name": "python"
    },
    "language_info": {
      "codemirror_mode": {
        "name": "python",
        "version": 3
      },
      "file_extension": ".py",
      "mimetype": "text/x-python",
      "name": "python",
      "nbconvert_exporter": "python",
      "pygments_lexer": "ipython3",
      "version": "3.8"
    }
  },
  "nbformat": 4,
  "nbformat_minor": 4
}
