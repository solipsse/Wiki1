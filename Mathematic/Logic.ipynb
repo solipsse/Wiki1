{
  "cells": [
    {
      "attachments": {},
      "cell_type": "markdown",
      "metadata": {},
      "source": [
        "[Main Wiki](Math-wiki.ipynb)"
      ]
    },
    {
      "attachments": {},
      "cell_type": "markdown",
      "metadata": {},
      "source": [
        "# Logic\n",
        "## 1. Mathematical Logic (Discrete)\n",
        "### Propositional logic\n",
        "### Predicate logic\n",
        "### Proof techniques\n",
        "### Model theory\n",
        "### Proof theory\n",
        "### Computability theory\n",
        "### Gödel's incompleteness theorems\n",
        "---\n",
        "## 2. Set Theory (Discrete)\n",
        "### Sets and subsets\n",
        "### Operations on sets\n",
        "### Relations and functions\n",
        "### Cardinality\n",
        "### Ordinal numbers\n",
        "### Axiom of choice\n",
        "### Zermelo-Fraenkel set theory\n",
        "---"
      ]
    },
    {
      "attachments": {},
      "cell_type": "markdown",
      "metadata": {
        "trusted": true
      },
      "source": [
        "## 3. Math Foundation\n",
        "### Introduction to Proof\n",
        "![](../data/intro-proof.svg)\n",
        "\n",
        "These are not set in stone. One usually starts with a **definition**. Then they make an unproven claim or **conjecture**. **Axioms** are meant to be minimal assumptions before building up. **Lemmas** are milestones as we work towards proving a theorem. Proof of a **theorem** is the primary goal. **Corollaries** are short proofs that rely heavily on the theorem.\n",
        "\n",
        "A **definition** is an accurate description of a concept, which require no proof, and should be reversible.\n",
        "- \"if a is define as b (a=b), then, if b, it must be a.\"\n",
        "- \"A _sphere_ is the collection of all points some set distance from a fixed centre.\"\n",
        "\n",
        "An **axiom** is a statement that we accept without prove. Everything we prove must then be built off our axioms. The fewer the axioms the better(i.e. less assumption).\n",
        "\n",
        "- $0\\cdot a = 0$\n",
        "\n",
        "We use axioms to prove **theorem**. We can use our result to prove more Theorems. By doing this we accumulate the tools we have. \n",
        "\n",
        "- The Pythagorean Theorem\n",
        "\n",
        "A **lemma** is a mini-theorem (small result) we might need to prove our main result.\n",
        "\n",
        "Results that comes easily from a theorem are called **corollaries**\n",
        "\n",
        "A **trivial** solution is an *obvious* solution\n",
        "- Find all [integer](diophantine equation) a, b, c such that $a^n + b^n = c^n$ Then a, b, c = 0 is a trivial solution.\n",
        "### Euclidean Geometry / Plane Geometry\n",
        "Euclid only use 5 axioms to derive everything in geometry.\n",
        "1. A line segment may be drawn between any two points. \n",
        "2. A straight line may be extended infitely.\n",
        "3. A circle may be drawn with any center and any radius.\n",
        "4. All right angles have equal measure.\n",
        "5. Given a line that interseects two other lines, if the angle made by those two lines with the first line add up to less than $180\\degree$ on thee same side, then those two lines must eventually meet on that side of the first line. This is also known as The **Parallel Postulate**.\n",
        "\n",
        "![](../data/euclid-postulates.gif)\n",
        "\n",
        "The 5th axioms creates problems for many mathematician. Many have tried to use the first four axioms to prove the 5th but nobody could. It turns out that this postulate is only true for a geometry on a plane.\n",
        "\n",
        "A similiar axiom to the parallel Postulate is the **Playfair's Axiom**. \"Given a line and a point not on that line, exactly one line can be drawn through that point that will be parallel to the first line.\"\n",
        "\n",
        "### Non-Euclidean Geometry\n",
        "We start by assuming that Euclid's 5th postulate is false, then work on it. This lead to finding **Hyperbolic Geometry** or **Eliptical Geometry**\n",
        "\n",
        "### Can a set of axioms proof every other theorem without using new axioms?\n",
        "There was a time where Mathematics is facing a foudnation crisis. David Hilbert proof that a finite set of axioms can't"
      ]
    }
  ],
  "metadata": {
    "kernelspec": {
      "display_name": "Python (Pyodide)",
      "language": "python",
      "name": "python"
    },
    "language_info": {
      "codemirror_mode": {
        "name": "python",
        "version": 3
      },
      "file_extension": ".py",
      "mimetype": "text/x-python",
      "name": "python",
      "nbconvert_exporter": "python",
      "pygments_lexer": "ipython3",
      "version": "3.8"
    }
  },
  "nbformat": 4,
  "nbformat_minor": 4
}
