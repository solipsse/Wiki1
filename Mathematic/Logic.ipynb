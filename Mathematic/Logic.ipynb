{
  "metadata": {
    "kernelspec": {
      "name": "python",
      "display_name": "Python (Pyodide)",
      "language": "python"
    },
    "language_info": {
      "codemirror_mode": {
        "name": "python",
        "version": 3
      },
      "file_extension": ".py",
      "mimetype": "text/x-python",
      "name": "python",
      "nbconvert_exporter": "python",
      "pygments_lexer": "ipython3",
      "version": "3.8"
    }
  },
  "nbformat_minor": 4,
  "nbformat": 4,
  "cells": [
    {
      "cell_type": "markdown",
      "source": "[Main Wiki](Math-wiki.ipynb)",
      "metadata": {}
    },
    {
      "cell_type": "markdown",
      "source": "# Logic\n## 1. Mathematical Logic (Discrete)\n### Propositional logic\n### Predicate logic\n### Proof techniques\n### Model theory\n### Proof theory\n### Computability theory\n### Gödel's incompleteness theorems\n---\n## 2. Set Theory (Discrete)\n### Sets and subsets\n### Operations on sets\n### Relations and functions\n### Cardinality\n### Ordinal numbers\n### Axiom of choice\n### Zermelo-Fraenkel set theory\n---\n## 3. Math Foundation ",
      "metadata": {}
    },
    {
      "cell_type": "code",
      "source": "",
      "metadata": {
        "trusted": true
      },
      "outputs": [],
      "execution_count": null
    }
  ]
}