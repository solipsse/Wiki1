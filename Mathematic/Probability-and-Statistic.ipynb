{
  "metadata": {
    "kernelspec": {
      "name": "python",
      "display_name": "Python (Pyodide)",
      "language": "python"
    },
    "language_info": {
      "codemirror_mode": {
        "name": "python",
        "version": 3
      },
      "file_extension": ".py",
      "mimetype": "text/x-python",
      "name": "python",
      "nbconvert_exporter": "python",
      "pygments_lexer": "ipython3",
      "version": "3.8"
    }
  },
  "nbformat_minor": 4,
  "nbformat": 4,
  "cells": [
    {
      "cell_type": "markdown",
      "source": "[Main Wiki](Math-wiki.ipynb)",
      "metadata": {}
    },
    {
      "cell_type": "markdown",
      "source": "# Probability and Statistic\n## 1. Probability Theory (Discrete and Continuous)\n### Probability axioms\n### Conditional probability and independence\n### Random variables\n### Probability distributions\n### Expectation and variance\n### Law of large numbers\n### Central limit theorem\n---\n## 2. Statistics (Discrete and Continuous)\n### Descriptive statistics\n### Inferential statistics\n### Hypothesis testing\n### Confidence intervals\n### Regression analysis\n### ANOVA\n### Non-parametric methods\n### Bayesian statistics\n### Statistical inference\n### Multivariate statistics\n### Time series analysis\n### Statistical learning\n---",
      "metadata": {}
    },
    {
      "cell_type": "code",
      "source": "",
      "metadata": {
        "trusted": true
      },
      "outputs": [],
      "execution_count": null
    }
  ]
}