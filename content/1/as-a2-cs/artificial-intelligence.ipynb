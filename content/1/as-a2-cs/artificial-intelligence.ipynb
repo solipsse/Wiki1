{
  "cells": [
    {
      "cell_type": "markdown",
      "metadata": {},
      "source": [
        "> [Main Wiki](cs.ipynb)"
      ]
    },
    {
      "cell_type": "markdown",
      "metadata": {},
      "source": [
        "# Artificial Intelligence\n",
        "## 1. Machine Learning\n",
        "### Supervised Learning\n",
        "### Unsupervised Learning\n",
        "### Reinforcement Learning\n",
        "---\n",
        "## 2. Deep Learning\n",
        "### Neural Networks\n",
        "### Convolutional Neural Networks (CNNs)\n",
        "### Recurrent Neural Networks (RNNs)\n",
        "---\n",
        "## 3. Natural Language Processing (NLP)\n",
        "### Text Processing\n",
        "### Sentiment Analysis\n",
        "### Machine Translation\n",
        "---\n",
        "## 4. Robotics\n",
        "### Robot Motion Planning\n",
        "### Computer Vision for Robotics\n",
        "### Robot Control Systems\n",
        "---"
      ]
    }
  ],
  "metadata": {
    "kernelspec": {
      "display_name": "Python (Pyodide)",
      "language": "python",
      "name": "python"
    },
    "language_info": {
      "codemirror_mode": {
        "name": "python",
        "version": 3
      },
      "file_extension": ".py",
      "mimetype": "text/x-python",
      "name": "python",
      "nbconvert_exporter": "python",
      "pygments_lexer": "ipython3",
      "version": "3.8"
    }
  },
  "nbformat": 4,
  "nbformat_minor": 4
}
