{
  "metadata": {
    "kernelspec": {
      "name": "python",
      "display_name": "Python (Pyodide)",
      "language": "python"
    },
    "language_info": {
      "codemirror_mode": {
        "name": "python",
        "version": 3
      },
      "file_extension": ".py",
      "mimetype": "text/x-python",
      "name": "python",
      "nbconvert_exporter": "python",
      "pygments_lexer": "ipython3",
      "version": "3.8"
    }
  },
  "nbformat_minor": 4,
  "nbformat": 4,
  "cells": [
    {
      "cell_type": "markdown",
      "source": "[CS Wiki](CS-wiki.ipynb)",
      "metadata": {}
    },
    {
      "cell_type": "markdown",
      "source": "# Theoretical Computer Science\n## 1. Automata Theory\n### Finite Automata\n### Context-Free Grammars\n### Turing Machines\n### Pushdown Automata\n---\n## 2. Computability Theory\n### Decidability\n### Recursive Functions\n### Turing Degrees\n---\n## 3. Complexity Theory\n### P vs NP Problem\n### NP-Completeness\n### Complexity Classes\n---\n## 4. Formal Languages\n### Regular Languages\n### Context-Free Languages\n### Context-Sensitive Languages\n---",
      "metadata": {}
    }
  ]
}