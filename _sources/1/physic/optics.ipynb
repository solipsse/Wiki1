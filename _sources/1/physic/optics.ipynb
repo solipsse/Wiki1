{
  "cells": [
    {
      "cell_type": "markdown",
      "metadata": {},
      "source": [
        "> [Main Wiki](physic.md)"
      ]
    },
    {
      "cell_type": "markdown",
      "metadata": {},
      "source": [
        "# Optics\n",
        "## 1. Geometrical Optics\n",
        "### Reflection and Refraction\n",
        "### Lenses and Mirrors\n",
        "### Optical Instruments\n",
        "---\n",
        "## 2. Wave Optics\n",
        "### Interference\n",
        "### Diffraction\n",
        "### Polarization\n",
        "---\n",
        "## 3. Quantum Optics\n",
        "### Photons\n",
        "### Lasers\n",
        "### Quantum Entanglement\n",
        "---"
      ]
    }
  ],
  "metadata": {
    "kernelspec": {
      "display_name": "Python (Pyodide)",
      "language": "python",
      "name": "python"
    },
    "language_info": {
      "codemirror_mode": {
        "name": "python",
        "version": 3
      },
      "file_extension": ".py",
      "mimetype": "text/x-python",
      "name": "python",
      "nbconvert_exporter": "python",
      "pygments_lexer": "ipython3",
      "version": "3.8"
    }
  },
  "nbformat": 4,
  "nbformat_minor": 4
}
