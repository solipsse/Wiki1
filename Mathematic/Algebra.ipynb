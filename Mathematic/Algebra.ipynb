{
  "metadata": {
    "kernelspec": {
      "name": "python",
      "display_name": "Python (Pyodide)",
      "language": "python"
    },
    "language_info": {
      "codemirror_mode": {
        "name": "python",
        "version": 3
      },
      "file_extension": ".py",
      "mimetype": "text/x-python",
      "name": "python",
      "nbconvert_exporter": "python",
      "pygments_lexer": "ipython3",
      "version": "3.8"
    }
  },
  "nbformat_minor": 4,
  "nbformat": 4,
  "cells": [
    {
      "cell_type": "markdown",
      "source": "[Main Wiki](Math-wiki.ipynb)",
      "metadata": {}
    },
    {
      "cell_type": "markdown",
      "source": "# Algebra\n## 1. Elementary Algebra\n### Basic operations (addition, subtraction, multiplication, division)\n### Variable and expression\n### Eauation and Inequality\n### Polynomials and factoring\n### Rational expressions\n### Exponents and radicals\n### Function\n---\n## 2. Linear Algebra\n### Vector spaces\n### Matrices and determinants\n### Linear transformations\n### Eigenvalues and eigenvectors\n### Inner product spaces\n### Diagonalization\n### Systems of linear equations\n---\n## 3. Abstract Algebra\n### Groups, subgroups, and group homomorphisms\n### Rings, subrings, and ring homomorphisms\n### Fields and field extensions\n### Modules and vector spaces\n### Group actions and symmetries\n---\n## 4. Algebraic Geometry\n### Affine and projective varieties\n### Morphisms and rational maps\n### Divisors and linear systems\n### Sheaves and schemes\n### Cohomology\n### Intersection theory\n---\n## 5. Boolean Algebra\n### Boolean functions and expressions\n### Logic gates and circuits\n### Simplification of Boolean expressions\n### Karnaugh maps\n### Boolean rings\n### Applications in computer science\n---",
      "metadata": {}
    },
    {
      "cell_type": "code",
      "source": "",
      "metadata": {
        "trusted": true
      },
      "outputs": [],
      "execution_count": null
    }
  ]
}