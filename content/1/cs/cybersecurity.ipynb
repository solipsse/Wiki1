{
  "cells": [
    {
      "cell_type": "markdown",
      "metadata": {},
      "source": [
        "> [Main Wiki](cs.md)"
      ]
    },
    {
      "cell_type": "markdown",
      "metadata": {},
      "source": [
        "# Cybersecurity\n",
        "##1. Basic Concepts\n",
        "### Security Goals (Confidentiality, Integrity, Availability)\n",
        "### Threats and Vulnerabilities\n",
        "---\n",
        "## 2. Cryptography/Encryption\n",
        "### Symmetric Encryption\n",
        "### Asymmetric Encryption\n",
        "### Hash Functions\n",
        "---\n",
        "## 3. Network Security\n",
        "### Secure Network Design\n",
        "### Network Security Protocols\n",
        "---\n",
        "## 4. Application Security\n",
        "### Secure Coding Practices\n",
        "### Application Vulnerability Testing\n",
        "---"
      ]
    }
  ],
  "metadata": {
    "kernelspec": {
      "display_name": "Python (Pyodide)",
      "language": "python",
      "name": "python"
    },
    "language_info": {
      "codemirror_mode": {
        "name": "python",
        "version": 3
      },
      "file_extension": ".py",
      "mimetype": "text/x-python",
      "name": "python",
      "nbconvert_exporter": "python",
      "pygments_lexer": "ipython3",
      "version": "3.8"
    }
  },
  "nbformat": 4,
  "nbformat_minor": 4
}
