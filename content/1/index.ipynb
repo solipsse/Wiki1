{
 "cells": [
  {
   "attachments": {},
   "cell_type": "markdown",
   "metadata": {},
   "source": [
    "# Naldo's Wiki\n",
    "\n",
    "Welcome to my domain...\n",
    "\n",
    "---\n",
    "# Subjects\n",
    "- [Math](./math/math.ipynb)\n",
    "- [Physic](./physic/physic.ipynb)\n",
    "- [CS](./cs/cs.ipynb)\n",
    "- [CS for AS/A2 Level](./as-a2-cs/cs.ipynb)\n",
    "---\n",
    "# Tool and Language References\n",
    "- Bash\n",
    "- git\n",
    "- Python\n",
    "- Latex\n",
    "- C++\n",
    "- Linux (How to setup linux)\n",
    "---\n",
    "# Specific Library References\n",
    "- Python\n",
    "  - Matplotlib\n",
    "  - Numpy"
   ]
  }
 ],
 "metadata": {
  "language_info": {
   "name": "python"
  },
  "orig_nbformat": 4
 },
 "nbformat": 4,
 "nbformat_minor": 2
}
