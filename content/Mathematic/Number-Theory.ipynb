{
  "metadata": {
    "kernelspec": {
      "name": "python",
      "display_name": "Python (Pyodide)",
      "language": "python"
    },
    "language_info": {
      "codemirror_mode": {
        "name": "python",
        "version": 3
      },
      "file_extension": ".py",
      "mimetype": "text/x-python",
      "name": "python",
      "nbconvert_exporter": "python",
      "pygments_lexer": "ipython3",
      "version": "3.8"
    }
  },
  "nbformat_minor": 4,
  "nbformat": 4,
  "cells": [
    {
      "cell_type": "markdown",
      "source": "[Main Wiki](Math-wiki.ipynb)",
      "metadata": {}
    },
    {
      "cell_type": "markdown",
      "source": "# Number Theory\n## 1. Elementary Number Theory (Discrete)\n### Divisibility and primes\n### GCD/HCF and LCM\n### Modular arithmetic\n### Diophantine equations\n### Arithmetic functions\n### Quadratic residues\n### Continued fractions\n---\n## 2. Analytic Number Theory (Continuous)\n### Prime number theorem\n### Riemann zeta function\n### Dirichlet characters and L-functions\n### Modular forms\n### Sieve methods\n### Distribution of prime numbers\n### Additive number theory\n---",
      "metadata": {}
    },
    {
      "cell_type": "code",
      "source": "",
      "metadata": {
        "trusted": true
      },
      "outputs": [],
      "execution_count": null
    }
  ]
}