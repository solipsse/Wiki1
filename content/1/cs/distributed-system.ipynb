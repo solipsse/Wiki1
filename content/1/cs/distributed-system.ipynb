{
  "cells": [
    {
      "cell_type": "markdown",
      "metadata": {},
      "source": [
        "> [Main Wiki](cs.ipynb)"
      ]
    },
    {
      "cell_type": "markdown",
      "metadata": {},
      "source": [
        "# Distributed Computing\n",
        "## 1. Distributed Computing Models\n",
        "### Client-Server Model\n",
        "### Peer-to-Peer Model\n",
        "### Hybrid Model\n",
        "---\n",
        "## 2. Cloud Computing\n",
        "### Infrastructure as a Service (IaaS)\n",
        "### Platform as a Service (PaaS)\n",
        "### Software as a Service (SaaS)\n",
        "---\n",
        "## 3. Peer-to-Peer Networks\n",
        "### P2P Architectures\n",
        "### Overlay Networks\n",
        "### File Sharing Protocols\n",
        "### Blockchain Technology\n",
        "---\n",
        "## 4. Distributed Databases\n",
        "### CAP Theorem\n",
        "### Data Replication\n",
        "### Distributed Transactions\n",
        "### Consistency Models\n",
        "---"
      ]
    },
    {
      "cell_type": "code",
      "execution_count": null,
      "metadata": {
        "trusted": true
      },
      "outputs": [],
      "source": []
    }
  ],
  "metadata": {
    "kernelspec": {
      "display_name": "Python (Pyodide)",
      "language": "python",
      "name": "python"
    },
    "language_info": {
      "codemirror_mode": {
        "name": "python",
        "version": 3
      },
      "file_extension": ".py",
      "mimetype": "text/x-python",
      "name": "python",
      "nbconvert_exporter": "python",
      "pygments_lexer": "ipython3",
      "version": "3.8"
    }
  },
  "nbformat": 4,
  "nbformat_minor": 4
}
