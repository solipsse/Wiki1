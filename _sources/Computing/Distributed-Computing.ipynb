{
  "metadata": {
    "kernelspec": {
      "name": "python",
      "display_name": "Python (Pyodide)",
      "language": "python"
    },
    "language_info": {
      "codemirror_mode": {
        "name": "python",
        "version": 3
      },
      "file_extension": ".py",
      "mimetype": "text/x-python",
      "name": "python",
      "nbconvert_exporter": "python",
      "pygments_lexer": "ipython3",
      "version": "3.8"
    }
  },
  "nbformat_minor": 4,
  "nbformat": 4,
  "cells": [
    {
      "cell_type": "markdown",
      "source": "[CS Wiki](CS-wiki.ipynb)",
      "metadata": {}
    },
    {
      "cell_type": "markdown",
      "source": "# Distributed Computing\n## 1. Distributed Computing Models\n### Client-Server Model\n### Peer-to-Peer Model\n### Hybrid Model\n---\n## 2. Cloud Computing\n### Infrastructure as a Service (IaaS)\n### Platform as a Service (PaaS)\n### Software as a Service (SaaS)\n---\n## 3. Peer-to-Peer Networks\n### P2P Architectures\n### Overlay Networks\n### File Sharing Protocols\n### Blockchain Technology\n---\n## 4. Distributed Databases\n### CAP Theorem\n### Data Replication\n### Distributed Transactions\n### Consistency Models\n---",
      "metadata": {}
    },
    {
      "cell_type": "code",
      "source": "",
      "metadata": {
        "trusted": true
      },
      "outputs": [],
      "execution_count": null
    }
  ]
}