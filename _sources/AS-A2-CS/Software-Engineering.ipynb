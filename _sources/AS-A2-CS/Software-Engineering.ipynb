{
  "metadata": {
    "kernelspec": {
      "name": "python",
      "display_name": "Python (Pyodide)",
      "language": "python"
    },
    "language_info": {
      "codemirror_mode": {
        "name": "python",
        "version": 3
      },
      "file_extension": ".py",
      "mimetype": "text/x-python",
      "name": "python",
      "nbconvert_exporter": "python",
      "pygments_lexer": "ipython3",
      "version": "3.8"
    }
  },
  "nbformat_minor": 4,
  "nbformat": 4,
  "cells": [
    {
      "cell_type": "markdown",
      "source": "[CS Wiki](CS-wiki.ipynb)",
      "metadata": {}
    },
    {
      "cell_type": "markdown",
      "source": "# Software Engineering\n## 1. Software Development Life Cycle (SDLC)\n1. Requirements Analysis\n2. Design\n3. Implementation\n4. Testing\n5. Maintenance\n### Requirements Analysis\n### Design\n### Implementation\n### Testing\n### Maintenance\n---\n## 2. Software Development Methodologies\n### Agile\n### Waterfall\n### DevOps\n### Lean\n---\n## 3. Design Patterns\n### Singleton\n### Factory\n### Observer\n### Strategy\n---\n## 4. Version Control Systems\n### Git\n### Subversion (SVN)\n### Mercurial\n---",
      "metadata": {}
    }
  ]
}