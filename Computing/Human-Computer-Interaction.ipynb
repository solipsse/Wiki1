{
  "metadata": {
    "kernelspec": {
      "name": "python",
      "display_name": "Python (Pyodide)",
      "language": "python"
    },
    "language_info": {
      "codemirror_mode": {
        "name": "python",
        "version": 3
      },
      "file_extension": ".py",
      "mimetype": "text/x-python",
      "name": "python",
      "nbconvert_exporter": "python",
      "pygments_lexer": "ipython3",
      "version": "3.8"
    }
  },
  "nbformat_minor": 4,
  "nbformat": 4,
  "cells": [
    {
      "cell_type": "markdown",
      "source": "[CS Wiki](CS-wiki.ipynb)",
      "metadata": {}
    },
    {
      "cell_type": "markdown",
      "source": "# Human-Computer Interaction\n## 1. User Interface Design\n### Principles of UI Design\n### Prototyping Tools\n---\n## 2. User Experience (UX)\n### UX Research Methods\n### User Testing\n---\n## 3. Accessibility\n### Web Content Accessibility Guidelines (WCAG)\n### Accessible Design Practices\n---",
      "metadata": {}
    }
  ]
}