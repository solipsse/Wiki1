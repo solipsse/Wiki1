{
  "cells": [
    {
      "cell_type": "markdown",
      "metadata": {},
      "source": [
        "> [Main Wiki](physic.ipynb)"
      ]
    },
    {
      "cell_type": "markdown",
      "metadata": {},
      "source": [
        "# Atomic, Molecular, and Optical Physics (AMO)\n",
        "## 1. Atomic Physics\n",
        "### Atomic Structure\n",
        "### Spectroscopy\n",
        "---\n",
        "## 2. Molecular Physics\n",
        "### Molecular Bonding\n",
        "### Molecular Spectra\n",
        "---\n",
        "## 3. Optical Physics\n",
        "### Laser Physics\n",
        "### Nonlinear Optics\n",
        "---"
      ]
    }
  ],
  "metadata": {
    "kernelspec": {
      "display_name": "Python (Pyodide)",
      "language": "python",
      "name": "python"
    },
    "language_info": {
      "codemirror_mode": {
        "name": "python",
        "version": 3
      },
      "file_extension": ".py",
      "mimetype": "text/x-python",
      "name": "python",
      "nbconvert_exporter": "python",
      "pygments_lexer": "ipython3",
      "version": "3.8"
    }
  },
  "nbformat": 4,
  "nbformat_minor": 4
}
