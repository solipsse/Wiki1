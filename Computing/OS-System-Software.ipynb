{
  "cells": [
    {
      "attachments": {},
      "cell_type": "markdown",
      "metadata": {},
      "source": [
        "[CS Wiki](CS-wiki.ipynb)"
      ]
    },
    {
      "attachments": {},
      "cell_type": "markdown",
      "metadata": {
        "jp-MarkdownHeadingCollapsed": true
      },
      "source": [
        "# OS and System Software\n",
        "## 1. Basic Concepts\n",
        "### Process Management\n",
        "### Memory Management\n",
        "### File Systems\n",
        "---\n",
        "## 2. Advanced Topics\n",
        "### Multithreading\n",
        "### Virtualization\n",
        "### Device Drivers\n",
        "---\n",
        "## 3. Popular Operating Systems\n",
        "### Windows\n",
        "### Linux\n",
        "### macOS\n",
        "---\n",
        "## 4. System Software Purpose\n",
        "### Security\n",
        "### Utility\n",
        "### Performance\n",
        "---\n",
        "[Linux1](https://docs.kernel.org/)\n",
        "[Linux2](https://www.kernel.org/doc/html/v4.10/index.html)\n",
        "[Microsoft Documentation](https://learn.microsoft.com/en-us/docs/)\n",
        "[Windows Documentation](https://learn.microsoft.com/en-us/windows/)\n",
        "[Windows App Documentation](https://learn.microsoft.com/en-us/windows/apps/)"
      ]
    }
  ],
  "metadata": {
    "kernelspec": {
      "display_name": "Python (Pyodide)",
      "language": "python",
      "name": "python"
    },
    "language_info": {
      "codemirror_mode": {
        "name": "python",
        "version": 3
      },
      "file_extension": ".py",
      "mimetype": "text/x-python",
      "name": "python",
      "nbconvert_exporter": "python",
      "pygments_lexer": "ipython3",
      "version": "3.8"
    }
  },
  "nbformat": 4,
  "nbformat_minor": 4
}
