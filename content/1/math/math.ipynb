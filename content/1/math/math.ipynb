{
  "cells": [
    {
      "attachments": {},
      "cell_type": "markdown",
      "metadata": {},
      "source": [
        "> [Back To Naldo's Wiki](../index.ipynb)"
      ]
    },
    {
      "attachments": {},
      "cell_type": "markdown",
      "metadata": {
        "editable": true,
        "slideshow": {
          "slide_type": ""
        },
        "tags": []
      },
      "source": [
        "# Naldo's Mathematic Wiki\n",
        "This is meant to be a wikipedia of all mathematical knowledge. It will prioritise derivations and relationship between topics.\n",
        "Take a look at [Physic-wiki](../physic/physic.ipynb) and [CS-wiki](../cs/cs.ipynb)\n",
        "### [Algebra](algebra.ipynb)\n",
        "- **Elementary Algebra**\n",
        "- **Linear Algebra**\n",
        "- **Abstract Algebra**\n",
        "- **Algebraic Geometry**\n",
        "- **Boolean Algebra**\n",
        "\n",
        "### [Analysis](analysis.ipynb)\n",
        "- **Real Analysis (Continuous)**\n",
        "- **Complex Analysis (Continuous)**\n",
        "- **Functional Analysis (Continuous)**\n",
        "\n",
        "### [Geometry](geometry.ipynb)\n",
        "- **Euclidean Geometry (Discrete)**\n",
        "- **Differential Geometry (Continuous)**\n",
        "- **Topology (Discrete and Continuous)**\n",
        "\n",
        "### [Number Theory](number-theory.ipynb)\n",
        "- **Elementary Number Theory (Discrete)**\n",
        "- **Analytic Number Theory (Continuous)**\n",
        "\n",
        "### [Combinatorics](combinatorics.ipynb)\n",
        "- **Combinatorial Theory (Discrete)**\n",
        "- **Graph Theory (Discrete)**\n",
        "- **Combinatorial Optimization (Discrete)**\n",
        "\n",
        "### [Logic](logic.ipynb) $\\Rightarrow$ *Math Foundation*\n",
        "- **Mathematical Logic (Discrete)**\n",
        "- **Set Theory (Discrete)**\n",
        "- **Math Foundation**\n",
        "\n",
        "### [Calculus](calculus.ipynb)\n",
        "- **Differential Calculus (Continuous)**\n",
        "- **Integral Calculus (Continuous)**\n",
        "- **Vector Calculus (Continuous)**\n",
        "\n",
        "### [Probability and Statistics](probability-and-statistic.ipynb)\n",
        "- **Probability Theory (Discrete and Continuous)**\n",
        "- **Statistics (Discrete and Continuous)**\n",
        "\n",
        "### [Applied Mathematics](applied-mathematics.ipynb)\n",
        "- **Numerical Analysis (Continuous)**\n",
        "- **Operations Research (Discrete)**\n",
        "- **Mathematical Physics (Continuous)**\n",
        "\n",
        "### [Additional Topics](additional-topics.ipynb)\n",
        "- **Game Theory (Discrete and Continuous)**\n",
        "- **Information Theory (Discrete)**\n",
        "- **Coding Theory (Discrete)**\n",
        "\n",
        "### [Interdisciplinary Areas](interdisciplinary.ipynb)\n",
        "- **Cryptology**\n",
        "- **Mathematical Modeling**\n",
        "- **History of Mathematics**\n",
        "- **Mathematical Biology**\n",
        "- **Mathematical Economics**\n",
        "- **Mathematical Finance**\n",
        "### [Notation](notation.ipynb)"
      ]
    },
    {
      "attachments": {},
      "cell_type": "markdown",
      "metadata": {},
      "source": []
    }
  ],
  "metadata": {
    "kernelspec": {
      "display_name": "Python 3",
      "language": "python",
      "name": "python3"
    },
    "language_info": {
      "codemirror_mode": {
        "name": "python",
        "version": 3
      },
      "file_extension": ".py",
      "mimetype": "text/x-python",
      "name": "python",
      "nbconvert_exporter": "python",
      "pygments_lexer": "ipython3",
      "version": "3.10.3"
    }
  },
  "nbformat": 4,
  "nbformat_minor": 4
}
