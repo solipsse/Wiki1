{
  "metadata": {
    "kernelspec": {
      "name": "python",
      "display_name": "Python (Pyodide)",
      "language": "python"
    },
    "language_info": {
      "codemirror_mode": {
        "name": "python",
        "version": 3
      },
      "file_extension": ".py",
      "mimetype": "text/x-python",
      "name": "python",
      "nbconvert_exporter": "python",
      "pygments_lexer": "ipython3",
      "version": "3.8"
    }
  },
  "nbformat_minor": 4,
  "nbformat": 4,
  "cells": [
    {
      "cell_type": "markdown",
      "source": "[Physic Wiki](Physic-wiki.ipynb)",
      "metadata": {}
    },
    {
      "cell_type": "markdown",
      "source": "# Quantum Mechanics\n## 1. Foundations\n### Wave-Particle Duality\n### Uncertainty Principle\n### Schrödinger Equation\n### Quantum Tunneling\n---\n## 2. Quantum States\n### Quantum Numbers\n### Atomic Orbitals\n### Spin\n---\n## 3. Advanced Topics\n### Quantum Field Theory\n### Quantum Computing\n### Quantum Cryptography\n---",
      "metadata": {}
    }
  ]
}