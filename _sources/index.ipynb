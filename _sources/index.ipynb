{
 "cells": [
  {
   "attachments": {},
   "cell_type": "markdown",
   "metadata": {},
   "source": [
    "# Welcome To The Wiki\n",
    "Here we have\n",
    "- [Math](./Mathematic/Math-wiki.ipynb)\n",
    "- [Physic](./Physic/Physic-wiki.ipynb)\n",
    "- [CS](./Computing/CS-wiki.ipynb)\n",
    "- [CS for AS/A2 Level](./AS-A2-CS/CS-wiki.ipynb)\n",
    "\n",
    "# Why wiki\n",
    "- We want the wiki to be a beginner friendly cheatsheet/reference sheet/revision note/ultimate textbook/ultimate second brain for any usage.\n",
    "# What's Next\n",
    "- Complete all section of the current 4 Wikis\n",
    "- Linux Documentation"
   ]
  },
  {
   "cell_type": "markdown",
   "metadata": {},
   "source": [
    "##"
   ]
  }
 ],
 "metadata": {
  "language_info": {
   "name": "python"
  },
  "orig_nbformat": 4
 },
 "nbformat": 4,
 "nbformat_minor": 2
}
