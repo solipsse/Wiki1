{
  "cells": [
    {
      "cell_type": "markdown",
      "metadata": {},
      "source": [
        "> [Main Wiki](math.ipynb)"
      ]
    },
    {
      "cell_type": "markdown",
      "metadata": {},
      "source": [
        "# Probability and Statistic\n",
        "## 1. Probability Theory (Discrete and Continuous)\n",
        "### Probability axioms\n",
        "### Conditional probability and independence\n",
        "### Random variables\n",
        "### Probability distributions\n",
        "### Expectation and variance\n",
        "### Law of large numbers\n",
        "### Central limit theorem\n",
        "---\n",
        "## 2. Statistics (Discrete and Continuous)\n",
        "### Descriptive statistics\n",
        "### Inferential statistics\n",
        "### Hypothesis testing\n",
        "### Confidence intervals\n",
        "### Regression analysis\n",
        "### ANOVA\n",
        "### Non-parametric methods\n",
        "### Bayesian statistics\n",
        "### Statistical inference\n",
        "### Multivariate statistics\n",
        "### Time series analysis\n",
        "### Statistical learning\n",
        "---"
      ]
    },
    {
      "cell_type": "code",
      "execution_count": null,
      "metadata": {
        "trusted": true
      },
      "outputs": [],
      "source": []
    }
  ],
  "metadata": {
    "kernelspec": {
      "display_name": "Python (Pyodide)",
      "language": "python",
      "name": "python"
    },
    "language_info": {
      "codemirror_mode": {
        "name": "python",
        "version": 3
      },
      "file_extension": ".py",
      "mimetype": "text/x-python",
      "name": "python",
      "nbconvert_exporter": "python",
      "pygments_lexer": "ipython3",
      "version": "3.8"
    }
  },
  "nbformat": 4,
  "nbformat_minor": 4
}
