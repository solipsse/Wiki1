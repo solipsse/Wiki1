{
  "metadata": {
    "kernelspec": {
      "name": "python",
      "display_name": "Python (Pyodide)",
      "language": "python"
    },
    "language_info": {
      "codemirror_mode": {
        "name": "python",
        "version": 3
      },
      "file_extension": ".py",
      "mimetype": "text/x-python",
      "name": "python",
      "nbconvert_exporter": "python",
      "pygments_lexer": "ipython3",
      "version": "3.8"
    }
  },
  "nbformat_minor": 4,
  "nbformat": 4,
  "cells": [
    {
      "cell_type": "markdown",
      "source": "[Physic Wiki](Physic-wiki.ipynb)",
      "metadata": {}
    },
    {
      "cell_type": "markdown",
      "source": "# Mechanic\n## 1. Kinematics\n### 1D Motion $\\overrightarrow{suva}t$\n### Projectile Motion\n### Uniform Circular Motion\n---\n## 2. Statics\n### Equilibrium\n### Center of Mass\n### Torque\n---\n## 3. Dynamic\n### Newton's Laws of Motion\n### Friction\n### Work, Energy, Power\n### Momentum and Collisions\n### Innertia and Momentum\n### Rotational Dynamics\n---",
      "metadata": {}
    },
    {
      "cell_type": "code",
      "source": "",
      "metadata": {
        "trusted": true
      },
      "outputs": [],
      "execution_count": null
    }
  ]
}