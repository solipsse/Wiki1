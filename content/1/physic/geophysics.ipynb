{
  "cells": [
    {
      "cell_type": "markdown",
      "metadata": {},
      "source": [
        "> [Main Wiki](physic.md)"
      ]
    },
    {
      "cell_type": "markdown",
      "metadata": {},
      "source": [
        "# Geophysics\n",
        "## Seismology\n",
        "### Earthquakes\n",
        "### Seismic Waves\n",
        "---\n",
        "## Volcanology\n",
        "### Volcano Formation\n",
        "### Eruptions\n",
        "---\n",
        "## Geomagnetism\n",
        "### Earth's Magnetic Field\n",
        "### Paleomagnetism\n",
        "---"
      ]
    }
  ],
  "metadata": {
    "kernelspec": {
      "display_name": "Python (Pyodide)",
      "language": "python",
      "name": "python"
    },
    "language_info": {
      "codemirror_mode": {
        "name": "python",
        "version": 3
      },
      "file_extension": ".py",
      "mimetype": "text/x-python",
      "name": "python",
      "nbconvert_exporter": "python",
      "pygments_lexer": "ipython3",
      "version": "3.8"
    }
  },
  "nbformat": 4,
  "nbformat_minor": 4
}
