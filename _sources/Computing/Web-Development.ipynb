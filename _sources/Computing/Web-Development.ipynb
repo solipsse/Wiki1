{
  "metadata": {
    "kernelspec": {
      "name": "python",
      "display_name": "Python (Pyodide)",
      "language": "python"
    },
    "language_info": {
      "codemirror_mode": {
        "name": "python",
        "version": 3
      },
      "file_extension": ".py",
      "mimetype": "text/x-python",
      "name": "python",
      "nbconvert_exporter": "python",
      "pygments_lexer": "ipython3",
      "version": "3.8"
    }
  },
  "nbformat_minor": 4,
  "nbformat": 4,
  "cells": [
    {
      "cell_type": "markdown",
      "source": "[CS Wiki](CS-wiki.ipynb)",
      "metadata": {}
    },
    {
      "cell_type": "markdown",
      "source": "# Web Development\n## 1. Frontend Development\n### HTML/CSS\n### JavaScript Frameworks (React, Angular, Vue)\n---\n## 2. Backend Development\n### Server-Side Languages (Node.js, Python, Ruby)\n### Databases and ORMs\n---\n## 3. Full Stack Development\n### MEAN Stack\n### MERN Stack\n### LAMP Stack\n---",
      "metadata": {
        "jp-MarkdownHeadingCollapsed": true
      }
    }
  ]
}