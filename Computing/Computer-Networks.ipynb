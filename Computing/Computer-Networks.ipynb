{
  "metadata": {
    "kernelspec": {
      "name": "python",
      "display_name": "Python (Pyodide)",
      "language": "python"
    },
    "language_info": {
      "codemirror_mode": {
        "name": "python",
        "version": 3
      },
      "file_extension": ".py",
      "mimetype": "text/x-python",
      "name": "python",
      "nbconvert_exporter": "python",
      "pygments_lexer": "ipython3",
      "version": "3.8"
    }
  },
  "nbformat_minor": 4,
  "nbformat": 4,
  "cells": [
    {
      "cell_type": "markdown",
      "source": "[CS Wiki](CS-wiki.ipynb)",
      "metadata": {}
    },
    {
      "cell_type": "markdown",
      "source": "# Computer Networks\n## 1. Networking Basics\n### OSI Model\n### TCP/IP Model\n### IP Addressing\n---\n## 2. Networking Protocols\n### TCP Protocol Suite\n### Ethernet Protocol Suite\n---\n## 3. Wireless Networks\n### Wi-Fi Standards\n### Bluetooth\n### Cellular Networks\n---\n## 4. Network Security\n### Firewalls\n### VPNs\n### Intrusion Detection Systems\n---",
      "metadata": {
        "jp-MarkdownHeadingCollapsed": true
      }
    }
  ]
}