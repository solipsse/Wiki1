{
  "metadata": {
    "kernelspec": {
      "name": "python",
      "display_name": "Python (Pyodide)",
      "language": "python"
    },
    "language_info": {
      "codemirror_mode": {
        "name": "python",
        "version": 3
      },
      "file_extension": ".py",
      "mimetype": "text/x-python",
      "name": "python",
      "nbconvert_exporter": "python",
      "pygments_lexer": "ipython3",
      "version": "3.8"
    }
  },
  "nbformat_minor": 4,
  "nbformat": 4,
  "cells": [
    {
      "cell_type": "markdown",
      "source": "[Physic Wiki](Physic-wiki.ipynb)",
      "metadata": {}
    },
    {
      "cell_type": "markdown",
      "source": "# Space Physic\n## 1. Stellar Physics\n### Star Formation\n### Stellar Evolution\n### Supernovae\n---\n## 2. Cosmology\n### Big Bang Theory\n### Dark Matter\n### Dark Energy\n### Cosmic Microwave Background\n---\n## 3. Galactic Astronomy\n### Structure of Galaxies\n### Black Holes\n### Galactic Dynamics\n---",
      "metadata": {}
    }
  ]
}