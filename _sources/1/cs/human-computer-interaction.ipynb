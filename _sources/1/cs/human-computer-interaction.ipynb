{
  "cells": [
    {
      "cell_type": "markdown",
      "metadata": {},
      "source": [
        "> [Main Wiki](cs.ipynb)"
      ]
    },
    {
      "cell_type": "markdown",
      "metadata": {},
      "source": [
        "# Human-Computer Interaction\n",
        "## 1. User Interface Design\n",
        "### Principles of UI Design\n",
        "### Prototyping Tools\n",
        "---\n",
        "## 2. User Experience (UX)\n",
        "### UX Research Methods\n",
        "### User Testing\n",
        "---\n",
        "## 3. Accessibility\n",
        "### Web Content Accessibility Guidelines (WCAG)\n",
        "### Accessible Design Practices\n",
        "---"
      ]
    }
  ],
  "metadata": {
    "kernelspec": {
      "display_name": "Python (Pyodide)",
      "language": "python",
      "name": "python"
    },
    "language_info": {
      "codemirror_mode": {
        "name": "python",
        "version": 3
      },
      "file_extension": ".py",
      "mimetype": "text/x-python",
      "name": "python",
      "nbconvert_exporter": "python",
      "pygments_lexer": "ipython3",
      "version": "3.8"
    }
  },
  "nbformat": 4,
  "nbformat_minor": 4
}
