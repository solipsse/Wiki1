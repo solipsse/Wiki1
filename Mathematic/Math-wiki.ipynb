{
  "metadata": {
    "kernelspec": {
      "name": "python",
      "display_name": "Python (Pyodide)",
      "language": "python"
    },
    "language_info": {
      "codemirror_mode": {
        "name": "python",
        "version": 3
      },
      "file_extension": ".py",
      "mimetype": "text/x-python",
      "name": "python",
      "nbconvert_exporter": "python",
      "pygments_lexer": "ipython3",
      "version": "3.8"
    }
  },
  "nbformat_minor": 4,
  "nbformat": 4,
  "cells": [
    {
      "cell_type": "markdown",
      "source": "# Naldo's Mathematic Wiki\nThis is meant to be a wikipedia of all mathematical knowledge Naldo has. It will prioritise derivations and relationship between topics.\nTake a look at [Physic-wiki](../Physic/Physic-wiki.ipynb) and [CS-wiki](../Computing/CS-wiki.ipynb)\n### [Algebra](Algebra.ipynb)\n- **Elementary Algebra**\n- **Linear Algebra**\n- **Abstract Algebra**\n- **Algebraic Geometry**\n- **Boolean Algebra**\n\n### [Analysis](Analysis.ipynb)\n- **Real Analysis (Continuous)**\n- **Complex Analysis (Continuous)**\n- **Functional Analysis (Continuous)**\n\n### [Geometry](Geometry.ipynb)\n- **Euclidean Geometry (Discrete)**\n- **Differential Geometry (Continuous)**\n- **Topology (Discrete and Continuous)**\n\n### [Number Theory](Number-Theory.ipynb)\n- **Elementary Number Theory (Discrete)**\n- **Analytic Number Theory (Continuous)**\n\n### [Combinatorics](Combinatorics.ipynb)\n- **Combinatorial Theory (Discrete)**\n- **Graph Theory (Discrete)**\n- **Combinatorial Optimization (Discrete)**\n\n### [Logic](Logic.ipynb) => *Math Foundation*\n- **Mathematical Logic (Discrete)**\n- **Set Theory (Discrete)**\n- **Math Foundation**\n\n### [Calculus](Calculus.ipynb)\n- **Differential Calculus (Continuous)**\n- **Integral Calculus (Continuous)**\n- **Vector Calculus (Continuous)**\n\n### [Probability and Statistics](Probability-and-Statistic.ipynb)\n- **Probability Theory (Discrete and Continuous)**\n- **Statistics (Discrete and Continuous)**\n\n### [Applied Mathematics](Applied-Mathematics.ipynb)\n- **Numerical Analysis (Continuous)**\n- **Operations Research (Discrete)**\n- **Mathematical Physics (Continuous)**\n\n### [Additional Topics](Additional-Topics.ipynb)\n- **Game Theory (Discrete and Continuous)**\n- **Information Theory (Discrete)**\n- **Coding Theory (Discrete)**\n\n### [Interdisciplinary Areas](Interdisciplinary.ipynb)\n- **Cryptology**\n- **Mathematical Modeling**\n- **History of Mathematics**\n- **Mathematical Biology**\n- **Mathematical Economics**\n- **Mathematical Finance**\n### [Notation](Notation.ipynb)",
      "metadata": {
        "tags": [],
        "editable": true,
        "slideshow": {
          "slide_type": ""
        }
      }
    }
  ]
}