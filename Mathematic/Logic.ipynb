{
  "cells": [
    {
      "attachments": {},
      "cell_type": "markdown",
      "metadata": {},
      "source": [
        "[Main Wiki](Math-wiki.ipynb)"
      ]
    },
    {
      "attachments": {},
      "cell_type": "markdown",
      "metadata": {},
      "source": [
        "# Logic\n",
        "## 1. Mathematical Logic (Discrete)\n",
        "### Propositional logic\n",
        "### Predicate logic\n",
        "### Proof techniques\n",
        "### Model theory\n",
        "### Proof theory\n",
        "### Computability theory\n",
        "### Gödel's incompleteness theorems\n",
        "---\n",
        "## 2. Set Theory (Discrete)\n",
        "### Sets and subsets\n",
        "### Operations on sets\n",
        "### Relations and functions\n",
        "### Cardinality\n",
        "### Ordinal numbers\n",
        "### Axiom of choice\n",
        "### Zermelo-Fraenkel set theory\n",
        "---\n",
        "## 3. Math Foundation\n",
        "### Introduction to Proof\n",
        "**Definition** is an accurate description of a concept, which require no proof, and should be reversible.\n",
        "- \"if a is define as b or a = b, then, if b, it must be a.\"\n",
        "- \"A _sphere_ is the collection of all points some set distance from a fixed centre.\""
      ]
    },
    {
      "attachments": {},
      "cell_type": "markdown",
      "metadata": {
        "trusted": true
      },
      "source": [
        "## 3. Math Foundation\n",
        "### Introduction to Proof\n",
        "A **definition** is an accurate description of a concept, which require no proof, and should be reversible.\n",
        "- \"if a is define as b (a=b), then, if b, it must be a.\"\n",
        "- \"A _sphere_ is the collection of all points some set distance from a fixed centre.\"\n",
        "\n",
        "An **axiom** or **postulate** is a statement that we accept without prove. Everything we prove must then be built off our axioms. The fewer the axioms the better(i.e. less assumption).\n",
        "\n",
        "- $0\\cdot a = 0$\n",
        "\n",
        "We use axioms to prove **Theorem** which becomes the results which we can use to prove more **Theorems**. By doing this we accumulate the tools we have. \n",
        "\n",
        "Before an idea/theory is proved, it is called a **Conjecture** (a guess)."
      ]
    },
    {
      "cell_type": "markdown",
      "metadata": {},
      "source": []
    }
  ],
  "metadata": {
    "kernelspec": {
      "display_name": "Python (Pyodide)",
      "language": "python",
      "name": "python"
    },
    "language_info": {
      "codemirror_mode": {
        "name": "python",
        "version": 3
      },
      "file_extension": ".py",
      "mimetype": "text/x-python",
      "name": "python",
      "nbconvert_exporter": "python",
      "pygments_lexer": "ipython3",
      "version": "3.8"
    }
  },
  "nbformat": 4,
  "nbformat_minor": 4
}
