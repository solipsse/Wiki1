{
  "metadata": {
    "kernelspec": {
      "name": "python",
      "display_name": "Python (Pyodide)",
      "language": "python"
    },
    "language_info": {
      "codemirror_mode": {
        "name": "python",
        "version": 3
      },
      "file_extension": ".py",
      "mimetype": "text/x-python",
      "name": "python",
      "nbconvert_exporter": "python",
      "pygments_lexer": "ipython3",
      "version": "3.8"
    }
  },
  "nbformat_minor": 4,
  "nbformat": 4,
  "cells": [
    {
      "cell_type": "markdown",
      "source": "[CS Wiki](CS-wiki.ipynb)",
      "metadata": {}
    },
    {
      "cell_type": "markdown",
      "source": "# Algorithms and Data Structures\n## Basic Data Structures\n### Arrays\n### Linked Lists\n### Stacks\n### Queues\n---\n## Trees and Graphs\n### Binary Trees\n### AVL Trees\n### Graph Traversal Algorithms\n### Minimum Spanning Tree\n---\n## Algorithms\n### Sorting Algorithms\n### Search Algorithms\n### Dynamic Programming\n### Greedy Algorithms\n---",
      "metadata": {
        "jp-MarkdownHeadingCollapsed": true
      }
    }
  ]
}