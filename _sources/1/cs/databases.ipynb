{
  "cells": [
    {
      "cell_type": "markdown",
      "metadata": {},
      "source": [
        "> [Main Wiki](cs.md)"
      ]
    },
    {
      "cell_type": "markdown",
      "metadata": {},
      "source": [
        "# Databases\n",
        "## 1. Database Models\n",
        "### Relational Databases\n",
        "### NoSQL Databases\n",
        "### Object-Oriented Databases\n",
        "### Levels of Database Design\n",
        "---\n",
        "## 2. SQL (Structured Query Language)\n",
        "### Basic SQL Commands\n",
        "### Advanced SQL Queries\n",
        "### SQL Joins\n",
        "---\n",
        "## 3. Database Design\n",
        "### Normalization\n",
        "### Entity-Relationship Model\n",
        "### Indexing\n",
        "---"
      ]
    }
  ],
  "metadata": {
    "kernelspec": {
      "display_name": "Python (Pyodide)",
      "language": "python",
      "name": "python"
    },
    "language_info": {
      "codemirror_mode": {
        "name": "python",
        "version": 3
      },
      "file_extension": ".py",
      "mimetype": "text/x-python",
      "name": "python",
      "nbconvert_exporter": "python",
      "pygments_lexer": "ipython3",
      "version": "3.8"
    }
  },
  "nbformat": 4,
  "nbformat_minor": 4
}
