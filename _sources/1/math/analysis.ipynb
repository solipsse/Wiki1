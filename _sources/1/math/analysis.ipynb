{
  "cells": [
    {
      "cell_type": "markdown",
      "metadata": {},
      "source": [
        "> [Main Wiki](math.md)"
      ]
    },
    {
      "cell_type": "markdown",
      "metadata": {},
      "source": [
        "# Analysis\n",
        "## 1. Real Analysis (Continuous)\n",
        "### Sequences and series\n",
        "### Limits and continuity\n",
        "### Function\n",
        "### Differentiation and integration\n",
        "### Metric spaces\n",
        "### Multivariable Function\n",
        "### Measure theory\n",
        "### Lebesgue integration\n",
        "---\n",
        "## 2. Complex Analysis (Continuous)\n",
        "### Complex numbers\n",
        "### Analytic functions\n",
        "### Complex integration\n",
        "### Cauchy's theorem and integral formula\n",
        "### Laurent series and residues\n",
        "### Conformal mappings\n",
        "### Meromorphic functions\n",
        "---\n",
        "## 3. Functional Analysis (Continuous)\n",
        "### Normed vector spaces\n",
        "### Banach and Hilbert spaces\n",
        "### Bounded linear operators\n",
        "### Spectral theory\n",
        "### Distributions and Sobolev spaces\n",
        "### Functional equations\n",
        "### Operator algebras\n",
        "---"
      ]
    },
    {
      "cell_type": "code",
      "execution_count": null,
      "metadata": {
        "trusted": true
      },
      "outputs": [],
      "source": []
    }
  ],
  "metadata": {
    "kernelspec": {
      "display_name": "Python (Pyodide)",
      "language": "python",
      "name": "python"
    },
    "language_info": {
      "codemirror_mode": {
        "name": "python",
        "version": 3
      },
      "file_extension": ".py",
      "mimetype": "text/x-python",
      "name": "python",
      "nbconvert_exporter": "python",
      "pygments_lexer": "ipython3",
      "version": "3.8"
    }
  },
  "nbformat": 4,
  "nbformat_minor": 4
}
