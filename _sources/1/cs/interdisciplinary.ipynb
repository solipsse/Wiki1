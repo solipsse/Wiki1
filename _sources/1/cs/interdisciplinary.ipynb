{
  "cells": [
    {
      "cell_type": "markdown",
      "metadata": {},
      "source": [
        "> [Main Wiki](cs.md)"
      ]
    },
    {
      "cell_type": "markdown",
      "metadata": {},
      "source": [
        "# Interdisciplinary Areas\n",
        "## 1. Bioinformatics\n",
        "### Genomic Data Analysis\n",
        "### Protein Structure Prediction\n",
        "---\n",
        "## 2. Computational Linguistics\n",
        "### Speech Recognition\n",
        "### Machine Translation\n",
        "---\n",
        "## 3. Data Science\n",
        "### Data Mining\n",
        "### Statistical Analysis\n",
        "### Data Visualization\n",
        "---"
      ]
    }
  ],
  "metadata": {
    "kernelspec": {
      "display_name": "Python (Pyodide)",
      "language": "python",
      "name": "python"
    },
    "language_info": {
      "codemirror_mode": {
        "name": "python",
        "version": 3
      },
      "file_extension": ".py",
      "mimetype": "text/x-python",
      "name": "python",
      "nbconvert_exporter": "python",
      "pygments_lexer": "ipython3",
      "version": "3.8"
    }
  },
  "nbformat": 4,
  "nbformat_minor": 4
}
