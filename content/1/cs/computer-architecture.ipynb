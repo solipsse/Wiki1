{
  "cells": [
    {
      "cell_type": "markdown",
      "metadata": {},
      "source": [
        "> [Main Wiki](cs.md)"
      ]
    },
    {
      "cell_type": "markdown",
      "metadata": {
        "jp-MarkdownHeadingCollapsed": true
      },
      "source": [
        "# Computer Architecture\n",
        "## 1. Basic Architecture\n",
        "### Von Neumann Architecture\n",
        "### Harvard Architecture\n",
        "### CPU Components\n",
        "---\n",
        "## 2. Advanced Architecture\n",
        "### Superscalar Architecture\n",
        "### Multicore Processors\n",
        "### Parallel Processing\n",
        "---\n",
        "## 3. Memory Hierarchy\n",
        "### Cache Memory\n",
        "### RAM\n",
        "### Virtual Memory\n",
        "---\n",
        "## 4. Assembly Language## \n",
        "### Instruction Set\n",
        "### Assembler\n",
        "### Assembly Language Programming\n",
        "---"
      ]
    }
  ],
  "metadata": {
    "kernelspec": {
      "display_name": "Python (Pyodide)",
      "language": "python",
      "name": "python"
    },
    "language_info": {
      "codemirror_mode": {
        "name": "python",
        "version": 3
      },
      "file_extension": ".py",
      "mimetype": "text/x-python",
      "name": "python",
      "nbconvert_exporter": "python",
      "pygments_lexer": "ipython3",
      "version": "3.8"
    }
  },
  "nbformat": 4,
  "nbformat_minor": 4
}
