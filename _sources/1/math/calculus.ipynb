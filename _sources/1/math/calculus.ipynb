{
  "cells": [
    {
      "cell_type": "markdown",
      "metadata": {},
      "source": [
        "> [Main Wiki](math.ipynb)"
      ]
    },
    {
      "cell_type": "markdown",
      "metadata": {},
      "source": [
        "# Calculus\n",
        "## 1. Differential Calculus (Continuous)\n",
        "### Limits and continuity\n",
        "### Derivatives and differentiability\n",
        "### Rules of differentiation\n",
        "### Implicit differentiation\n",
        "### Applications of derivatives\n",
        "### Taylor series\n",
        "### Multivariable differentiation\n",
        "---\n",
        "## 2. Integral Calculus (Continuous)\n",
        "### Definite and indefinite integrals\n",
        "### Techniques of integration\n",
        "### Fundamental theorem of calculus\n",
        "### Improper integrals\n",
        "### Applications of integration\n",
        "### Differential equations\n",
        "### Multiple integrals\n",
        "# 3. Vector Calculus (Continuous)\n",
        "### Vector fields\n",
        "### Line and surface integrals\n",
        "### Gradient, divergence, and curl\n",
        "### Green's theorem\n",
        "### Stokes' theorem\n",
        "### Gauss's theorem\n",
        "### Differential forms\n",
        "---"
      ]
    },
    {
      "cell_type": "code",
      "execution_count": null,
      "metadata": {
        "trusted": true
      },
      "outputs": [],
      "source": []
    }
  ],
  "metadata": {
    "kernelspec": {
      "display_name": "Python (Pyodide)",
      "language": "python",
      "name": "python"
    },
    "language_info": {
      "codemirror_mode": {
        "name": "python",
        "version": 3
      },
      "file_extension": ".py",
      "mimetype": "text/x-python",
      "name": "python",
      "nbconvert_exporter": "python",
      "pygments_lexer": "ipython3",
      "version": "3.8"
    }
  },
  "nbformat": 4,
  "nbformat_minor": 4
}
