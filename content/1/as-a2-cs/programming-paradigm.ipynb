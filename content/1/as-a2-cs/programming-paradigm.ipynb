{
  "cells": [
    {
      "cell_type": "markdown",
      "metadata": {},
      "source": [
        "> [Main Wiki](cs.md)"
      ]
    },
    {
      "cell_type": "markdown",
      "metadata": {},
      "source": [
        "# 20. Programming Paradigm\n",
        "- Programming paradigms: A programming styles that programming language has/uses\n",
        "\n",
        "## Procedural Programming\n",
        "\n",
        "---\n",
        "## Object-Oriented Programming ()\n",
        "- Object\n",
        "- attributes\n",
        "- Methods\n",
        "- classes\n",
        "- inheritance\n",
        "- polymorphism\n",
        "- containment (Aggregation)\n",
        "- encapsulation\n",
        "- getters\n",
        "- setter\n",
        "- instances\n",
        "\n",
        "\n",
        "\n",
        "\n",
        "---\n",
        "## Functional Programming\n",
        "\n",
        "---\n",
        "## Scripting Languages\n",
        "\n",
        "---\n",
        "## Declarative Programming\n",
        "\n",
        "---"
      ]
    },
    {
      "cell_type": "markdown",
      "metadata": {},
      "source": [
        "## Object-Oriented Programming ()\n",
        "- Object\n",
        "- attributes\n",
        "- Methods\n",
        "- classes\n",
        "- inheritance\n",
        "- polymorphism\n",
        "- containment (Aggregation)\n",
        "- encapsulation\n",
        "- getters\n",
        "- setter\n",
        "- instances"
      ]
    },
    {
      "cell_type": "code",
      "execution_count": null,
      "metadata": {},
      "outputs": [],
      "source": []
    }
  ],
  "metadata": {
    "kernelspec": {
      "display_name": "Python (Pyodide)",
      "language": "python",
      "name": "python"
    },
    "language_info": {
      "codemirror_mode": {
        "name": "python",
        "version": 3
      },
      "file_extension": ".py",
      "mimetype": "text/x-python",
      "name": "python",
      "nbconvert_exporter": "python",
      "pygments_lexer": "ipython3",
      "version": "3.8"
    }
  },
  "nbformat": 4,
  "nbformat_minor": 4
}
