{
 "cells": [
  {
   "attachments": {},
   "cell_type": "markdown",
   "metadata": {},
   "source": [
    "> [Back To Naldo's Wiki](../index.ipynb)"
   ]
  },
  {
   "attachments": {},
   "cell_type": "markdown",
   "metadata": {},
   "source": [
    "# Naldo's AS-A2 CS Wiki\n",
    "This Wiki contain information revelant to pass AS-A2 CS.\n",
    "Take a look at [Math-wiki](../math/math.ipynb) and [Physic-wiki](../physic/physic.ipynb)\n",
    "\n",
    "Take a look at [CS](../cs/cs.ipynb)\n",
    "\n",
    "## Main Relationship between \n",
    "\n",
    "[<img src=\"./as-a2-link.jpg\" width=\"300\"/>](./as-a2-link.jpg)\n",
    "\n",
    "### [Software Engineering](software-engineering.ipynb)\n",
    "- **Software Development Life Cycle (SDLC)**\n",
    "- **Software Development Methodologies**\n",
    "- **Design Patterns**\n",
    "- **Version Control Systems**\n",
    "### [Algorithms and Data Structures](algorithms-and-data-structures.ipynb)\n",
    "- **Basic Data Structures**\n",
    "- **Trees and Graphs**\n",
    "- **Algorithms**\n",
    "### [Programming Paradigm](programming-paradigm.ipynb)\n",
    "- **Procedural Programming**\n",
    "- **Object-Oriented Programming**\n",
    "- **Functional Programming**\n",
    "- **Scripting Languages**\n",
    "- **Declarative Programming**\n",
    "### [Computer Architecture](computer-architecture.ipynb)\n",
    "- **Basic Architecture**\n",
    "- **Advanced Architecture**\n",
    "- **Memory Hierarchy**\n",
    "- **Assembly Language**\n",
    "### [OS and System Software](os-system-software.ipynb)\n",
    "- **Basic Concepts**\n",
    "- **Advanced Topics**\n",
    "- **Popular Operating Systems**\n",
    "### [Computer Networks](computer-networks.ipynb)\n",
    "- **Networking Basics**\n",
    "- **Networking Protocols**\n",
    "- **Wireless Networks**\n",
    "- **Network Security**\n",
    "### [Distributed System](distributed-system.ipynb)\n",
    "- **Distributed Computing Models**\n",
    "- **Cloud Computing**\n",
    "- **Peer-to-Peer Networks**\n",
    "- **Distributed Databases**\n",
    "### [Cybersecurity](cybersecurity.ipynb)\n",
    "- **Basic Concepts**\n",
    "- **Cryptography**\n",
    "- **Network Security**\n",
    "- **Application Security**\n",
    "### [Databases](databases.ipynb)\n",
    "- **Database Models**\n",
    "- **SQL (Structured Query Language)**\n",
    "- **Database Design**\n",
    "### [Artificial Intelligence](artificial-intelligence.ipynb)\n",
    "- **Machine Learning**\n",
    "- **Deep Learning**\n",
    "- **Natural Language Processing (NLP)**\n",
    "- **Robotics**\n",
    "### [Ethics](ethics.ipynb)\n",
    "- **Basic Concept**\n",
    "- **Licensing**\n",
    "- **Copyright**"
   ]
  },
  {
   "attachments": {},
   "cell_type": "markdown",
   "metadata": {},
   "source": []
  }
 ],
 "metadata": {
  "kernelspec": {
   "display_name": "Python 3",
   "language": "python",
   "name": "python3"
  },
  "language_info": {
   "name": "python",
   "version": "3.10.3"
  },
  "orig_nbformat": 4
 },
 "nbformat": 4,
 "nbformat_minor": 2
}
