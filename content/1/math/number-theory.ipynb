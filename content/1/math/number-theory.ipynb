{
  "cells": [
    {
      "cell_type": "markdown",
      "metadata": {},
      "source": [
        "> [Main Wiki](math.ipynb)"
      ]
    },
    {
      "cell_type": "markdown",
      "metadata": {},
      "source": [
        "# Number Theory\n",
        "## 1. Elementary Number Theory (Discrete)\n",
        "### Divisibility and primes\n",
        "### GCD/HCF and LCM\n",
        "### Modular arithmetic\n",
        "### Diophantine equations\n",
        "### Arithmetic functions\n",
        "### Quadratic residues\n",
        "### Continued fractions\n",
        "---\n",
        "## 2. Analytic Number Theory (Continuous)\n",
        "### Prime number theorem\n",
        "### Riemann zeta function\n",
        "### Dirichlet characters and L-functions\n",
        "### Modular forms\n",
        "### Sieve methods\n",
        "### Distribution of prime numbers\n",
        "### Additive number theory\n",
        "---"
      ]
    },
    {
      "cell_type": "code",
      "execution_count": null,
      "metadata": {
        "trusted": true
      },
      "outputs": [],
      "source": []
    }
  ],
  "metadata": {
    "kernelspec": {
      "display_name": "Python (Pyodide)",
      "language": "python",
      "name": "python"
    },
    "language_info": {
      "codemirror_mode": {
        "name": "python",
        "version": 3
      },
      "file_extension": ".py",
      "mimetype": "text/x-python",
      "name": "python",
      "nbconvert_exporter": "python",
      "pygments_lexer": "ipython3",
      "version": "3.8"
    }
  },
  "nbformat": 4,
  "nbformat_minor": 4
}
