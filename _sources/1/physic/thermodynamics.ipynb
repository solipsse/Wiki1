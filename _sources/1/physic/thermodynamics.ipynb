{
  "cells": [
    {
      "cell_type": "markdown",
      "metadata": {},
      "source": [
        "> [Main Wiki](physic.md)"
      ]
    },
    {
      "cell_type": "markdown",
      "metadata": {},
      "source": [
        "# Thermodynamics\n",
        "## 1. Laws of Thermodynamics\n",
        "### Zeroth Law\n",
        "### First Law\n",
        "### Second Law\n",
        "### Third Law\n",
        "---\n",
        "## 2. Thermodynamic Processes\n",
        "### Isothermal, Adiabatic, Isobaric, Isochoric\n",
        "---\n",
        "## 3. Heat Transfer\n",
        "### Conduction\n",
        "### Convection\n",
        "### Radiation\n",
        "---\n",
        "## 4. Statistical Mechanics\n",
        "### Microstates and Macrostates\n",
        "### Entropy\n",
        "### Boltzmann Distribution\n",
        "---"
      ]
    }
  ],
  "metadata": {
    "kernelspec": {
      "display_name": "Python (Pyodide)",
      "language": "python",
      "name": "python"
    },
    "language_info": {
      "codemirror_mode": {
        "name": "python",
        "version": 3
      },
      "file_extension": ".py",
      "mimetype": "text/x-python",
      "name": "python",
      "nbconvert_exporter": "python",
      "pygments_lexer": "ipython3",
      "version": "3.8"
    }
  },
  "nbformat": 4,
  "nbformat_minor": 4
}
