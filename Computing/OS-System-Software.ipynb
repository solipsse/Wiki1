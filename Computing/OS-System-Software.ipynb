{
  "metadata": {
    "kernelspec": {
      "name": "python",
      "display_name": "Python (Pyodide)",
      "language": "python"
    },
    "language_info": {
      "codemirror_mode": {
        "name": "python",
        "version": 3
      },
      "file_extension": ".py",
      "mimetype": "text/x-python",
      "name": "python",
      "nbconvert_exporter": "python",
      "pygments_lexer": "ipython3",
      "version": "3.8"
    }
  },
  "nbformat_minor": 4,
  "nbformat": 4,
  "cells": [
    {
      "cell_type": "markdown",
      "source": "[CS Wiki](CS-wiki.ipynb)",
      "metadata": {}
    },
    {
      "cell_type": "markdown",
      "source": "# OS and System Software\n## 1. Basic Concepts\n### Process Management\n### Memory Management\n### File Systems\n---\n## 2. Advanced Topics\n### Multithreading\n### Virtualization\n### Device Drivers\n---\n## 3. Popular Operating Systems\n### Windows\n### Linux\n### macOS\n---\n## 4. System Software Purpose\n### Security\n### Utility\n### Performance\n---",
      "metadata": {
        "jp-MarkdownHeadingCollapsed": true
      }
    }
  ]
}