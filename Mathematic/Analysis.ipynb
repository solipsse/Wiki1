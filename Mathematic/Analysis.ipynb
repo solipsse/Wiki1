{
  "metadata": {
    "kernelspec": {
      "name": "python",
      "display_name": "Python (Pyodide)",
      "language": "python"
    },
    "language_info": {
      "codemirror_mode": {
        "name": "python",
        "version": 3
      },
      "file_extension": ".py",
      "mimetype": "text/x-python",
      "name": "python",
      "nbconvert_exporter": "python",
      "pygments_lexer": "ipython3",
      "version": "3.8"
    }
  },
  "nbformat_minor": 4,
  "nbformat": 4,
  "cells": [
    {
      "cell_type": "markdown",
      "source": "[Main Wiki](Math-wiki.ipynb)",
      "metadata": {}
    },
    {
      "cell_type": "markdown",
      "source": "# Analysis\n## 1. Real Analysis (Continuous)\n### Sequences and series\n### Limits and continuity\n### Function\n### Differentiation and integration\n### Metric spaces\n### Multivariable Function\n### Measure theory\n### Lebesgue integration\n---\n## 2. Complex Analysis (Continuous)\n### Complex numbers\n### Analytic functions\n### Complex integration\n### Cauchy's theorem and integral formula\n### Laurent series and residues\n### Conformal mappings\n### Meromorphic functions\n---\n## 3. Functional Analysis (Continuous)\n### Normed vector spaces\n### Banach and Hilbert spaces\n### Bounded linear operators\n### Spectral theory\n### Distributions and Sobolev spaces\n### Functional equations\n### Operator algebras\n---",
      "metadata": {}
    },
    {
      "cell_type": "code",
      "source": "",
      "metadata": {
        "trusted": true
      },
      "outputs": [],
      "execution_count": null
    }
  ]
}