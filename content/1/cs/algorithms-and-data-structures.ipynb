{
  "cells": [
    {
      "cell_type": "markdown",
      "metadata": {},
      "source": [
        "> [Main Wiki](cs.md)"
      ]
    },
    {
      "cell_type": "markdown",
      "metadata": {
        "jp-MarkdownHeadingCollapsed": true
      },
      "source": [
        "# Algorithms and Data Structures\n",
        "## Basic Data Structures\n",
        "### Arrays\n",
        "### Linked Lists\n",
        "### Stacks\n",
        "### Queues\n",
        "---\n",
        "## Trees and Graphs\n",
        "### Binary Trees\n",
        "### AVL Trees\n",
        "### Graph Traversal Algorithms\n",
        "### Minimum Spanning Tree\n",
        "---\n",
        "## Algorithms\n",
        "### Sorting Algorithms\n",
        "### Search Algorithms\n",
        "### Dynamic Programming\n",
        "### Greedy Algorithms\n",
        "---"
      ]
    }
  ],
  "metadata": {
    "kernelspec": {
      "display_name": "Python (Pyodide)",
      "language": "python",
      "name": "python"
    },
    "language_info": {
      "codemirror_mode": {
        "name": "python",
        "version": 3
      },
      "file_extension": ".py",
      "mimetype": "text/x-python",
      "name": "python",
      "nbconvert_exporter": "python",
      "pygments_lexer": "ipython3",
      "version": "3.8"
    }
  },
  "nbformat": 4,
  "nbformat_minor": 4
}
