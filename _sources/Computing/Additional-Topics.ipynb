{
  "metadata": {
    "kernelspec": {
      "name": "python",
      "display_name": "Python (Pyodide)",
      "language": "python"
    },
    "language_info": {
      "codemirror_mode": {
        "name": "python",
        "version": 3
      },
      "file_extension": ".py",
      "mimetype": "text/x-python",
      "name": "python",
      "nbconvert_exporter": "python",
      "pygments_lexer": "ipython3",
      "version": "3.8"
    }
  },
  "nbformat_minor": 4,
  "nbformat": 4,
  "cells": [
    {
      "cell_type": "markdown",
      "source": "[CS Wiki](CS-wiki.ipynb)",
      "metadata": {}
    },
    {
      "cell_type": "markdown",
      "source": "# Additional Topics\n## 1. Quantum Computing\n### Quantum Algorithms\n### Quantum Cryptography\n### Quantum Information Theory\n---\n## 2. Blockchain\n### Blockchain Technology\n### Smart Contracts\n### Decentralized Applications (DApps)\n---\n## 3. Internet of Things (IoT)\n### IoT Architecture\n### IoT Protocols\n### IoT Security\n---",
      "metadata": {}
    }
  ]
}