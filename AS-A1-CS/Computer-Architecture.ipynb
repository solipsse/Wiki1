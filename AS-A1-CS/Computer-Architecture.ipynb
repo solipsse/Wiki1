{
  "metadata": {
    "kernelspec": {
      "name": "python",
      "display_name": "Python (Pyodide)",
      "language": "python"
    },
    "language_info": {
      "codemirror_mode": {
        "name": "python",
        "version": 3
      },
      "file_extension": ".py",
      "mimetype": "text/x-python",
      "name": "python",
      "nbconvert_exporter": "python",
      "pygments_lexer": "ipython3",
      "version": "3.8"
    }
  },
  "nbformat_minor": 4,
  "nbformat": 4,
  "cells": [
    {
      "cell_type": "markdown",
      "source": "[CS Wiki](CS-wiki.ipynb)",
      "metadata": {}
    },
    {
      "cell_type": "markdown",
      "source": "# Computer Architecture\n## 1. Basic Architecture\n### Von Neumann Architecture\n### Harvard Architecture\n### CPU Components\n---\n## 2. Advanced Architecture\n### Superscalar Architecture\n### Multicore Processors\n### Parallel Processing\n---\n## 3. Memory Hierarchy\n### Cache Memory\n### RAM\n### Virtual Memory\n---\n## 4. Assembly Language## \n### Instruction Set\n### Assembler\n### Assembly Language Programming\n---",
      "metadata": {
        "jp-MarkdownHeadingCollapsed": true
      }
    }
  ]
}