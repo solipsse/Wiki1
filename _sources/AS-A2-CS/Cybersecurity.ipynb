{
  "metadata": {
    "kernelspec": {
      "name": "python",
      "display_name": "Python (Pyodide)",
      "language": "python"
    },
    "language_info": {
      "codemirror_mode": {
        "name": "python",
        "version": 3
      },
      "file_extension": ".py",
      "mimetype": "text/x-python",
      "name": "python",
      "nbconvert_exporter": "python",
      "pygments_lexer": "ipython3",
      "version": "3.8"
    }
  },
  "nbformat_minor": 4,
  "nbformat": 4,
  "cells": [
    {
      "cell_type": "markdown",
      "source": "[CS Wiki](CS-wiki.ipynb)",
      "metadata": {}
    },
    {
      "cell_type": "markdown",
      "source": "# Cybersecurity\n##1. Basic Concepts\n### Security Goals (Confidentiality, Integrity, Availability)\n### Threats and Vulnerabilities\n---\n## 2. Cryptography/Encryption\n### Symmetric Encryption\n### Asymmetric Encryption\n### Hash Functions\n---\n## 3. Network Security\n### Secure Network Design\n### Network Security Protocols\n---\n## 4. Application Security\n### Secure Coding Practices\n### Application Vulnerability Testing\n---",
      "metadata": {}
    }
  ]
}