{
  "cells": [
    {
      "cell_type": "markdown",
      "metadata": {},
      "source": [
        "> [Main Wiki](physic.md)"
      ]
    },
    {
      "cell_type": "markdown",
      "metadata": {},
      "source": [
        "# Plasma Physics\n",
        "## 1. Plasma State\n",
        "### Properties of Plasma\n",
        "### Plasma Oscillations\n",
        "---\n",
        "## 2. Magnetic Confinement\n",
        "### Tokamaks\n",
        "### Stellarators\n",
        "---\n",
        "## 3. Plasma Applications\n",
        "### Fusion Energy\n",
        "### Space Plasmas\n",
        "---"
      ]
    }
  ],
  "metadata": {
    "kernelspec": {
      "display_name": "Python (Pyodide)",
      "language": "python",
      "name": "python"
    },
    "language_info": {
      "codemirror_mode": {
        "name": "python",
        "version": 3
      },
      "file_extension": ".py",
      "mimetype": "text/x-python",
      "name": "python",
      "nbconvert_exporter": "python",
      "pygments_lexer": "ipython3",
      "version": "3.8"
    }
  },
  "nbformat": 4,
  "nbformat_minor": 4
}
