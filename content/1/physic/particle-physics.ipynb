{
  "cells": [
    {
      "cell_type": "markdown",
      "metadata": {},
      "source": [
        "> [Main Wiki](physic.ipynb)"
      ]
    },
    {
      "cell_type": "markdown",
      "metadata": {},
      "source": [
        "# Particle Physics\n",
        "## 1. Fundamental Particles\n",
        "### Quarks\n",
        "### Leptons\n",
        "### Bosons\n",
        "---\n",
        "## 2. Forces and Interactions\n",
        "### Electromagnetic\n",
        "### Weak\n",
        "### Strong\n",
        "### Gravitational\n",
        "---\n",
        "## 3. The Standard Model\n",
        "### Higgs Boson\n",
        "### Particle Accelerators\n",
        "### Neutrino Oscillations\n",
        "---"
      ]
    }
  ],
  "metadata": {
    "kernelspec": {
      "display_name": "Python (Pyodide)",
      "language": "python",
      "name": "python"
    },
    "language_info": {
      "codemirror_mode": {
        "name": "python",
        "version": 3
      },
      "file_extension": ".py",
      "mimetype": "text/x-python",
      "name": "python",
      "nbconvert_exporter": "python",
      "pygments_lexer": "ipython3",
      "version": "3.8"
    }
  },
  "nbformat": 4,
  "nbformat_minor": 4
}
