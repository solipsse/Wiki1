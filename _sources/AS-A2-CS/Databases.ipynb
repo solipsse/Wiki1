{
  "metadata": {
    "kernelspec": {
      "name": "python",
      "display_name": "Python (Pyodide)",
      "language": "python"
    },
    "language_info": {
      "codemirror_mode": {
        "name": "python",
        "version": 3
      },
      "file_extension": ".py",
      "mimetype": "text/x-python",
      "name": "python",
      "nbconvert_exporter": "python",
      "pygments_lexer": "ipython3",
      "version": "3.8"
    }
  },
  "nbformat_minor": 4,
  "nbformat": 4,
  "cells": [
    {
      "cell_type": "markdown",
      "source": "[CS Wiki](CS-wiki.ipynb)",
      "metadata": {}
    },
    {
      "cell_type": "markdown",
      "source": "# Databases\n## 1. Database Models\n### Relational Databases\n### NoSQL Databases\n### Object-Oriented Databases\n### Levels of Database Design\n---\n## 2. SQL (Structured Query Language)\n### Basic SQL Commands\n### Advanced SQL Queries\n### SQL Joins\n---\n## 3. Database Design\n### Normalization\n### Entity-Relationship Model\n### Indexing\n---",
      "metadata": {}
    }
  ]
}