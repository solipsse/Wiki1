{
  "cells": [
    {
      "cell_type": "markdown",
      "metadata": {},
      "source": [
        "> [Main Wiki](physic.ipynb)"
      ]
    },
    {
      "cell_type": "markdown",
      "metadata": {},
      "source": [
        "# Electromagnetism\n",
        "## 1. Electrostatics\n",
        "### Electric Charge\n",
        "### Electric Field\n",
        "### Gauss's Law\n",
        "### Electric Potential\n",
        "---\n",
        "## 2. Electric Circuits\n",
        "### Ohm's Law\n",
        "### Series and Parallel Circuits\n",
        "### Kirchhoff's Laws\n",
        "### Capacitance and Inductance\n",
        "---\n",
        "## 3. Magnetism\n",
        "### Magnetic Fields\n",
        "### Electromagnetic Induction\n",
        "### Faraday's Law\n",
        "### Lenz's Law\n",
        "---\n",
        "## 4. Electromagnetic Waves\n",
        "### Maxwell's Equations\n",
        "### Wave Propagation\n",
        "### Spectrum of Electromagnetic Waves\n",
        "---"
      ]
    }
  ],
  "metadata": {
    "kernelspec": {
      "display_name": "Python (Pyodide)",
      "language": "python",
      "name": "python"
    },
    "language_info": {
      "codemirror_mode": {
        "name": "python",
        "version": 3
      },
      "file_extension": ".py",
      "mimetype": "text/x-python",
      "name": "python",
      "nbconvert_exporter": "python",
      "pygments_lexer": "ipython3",
      "version": "3.8"
    }
  },
  "nbformat": 4,
  "nbformat_minor": 4
}
