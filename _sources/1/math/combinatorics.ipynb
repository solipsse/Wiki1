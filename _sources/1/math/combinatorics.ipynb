{
  "cells": [
    {
      "cell_type": "markdown",
      "metadata": {},
      "source": [
        "> [Main Wiki](math.ipynb)"
      ]
    },
    {
      "cell_type": "markdown",
      "metadata": {},
      "source": [
        "# Combinatorics\n",
        "## 1. Combinatorial Theory (Discrete)\n",
        "### Permutations and combinations\n",
        "### Binomial coefficients\n",
        "### Inclusion-exclusion principle\n",
        "### Generating functions\n",
        "### Recurrence relations\n",
        "### Pigeonhole principle\n",
        "### Combinatorial designs\n",
        "---\n",
        "## 2. Graph Theory (Discrete)\n",
        "### Graphs and digraphs\n",
        "### Trees and spanning trees\n",
        "### Planar graphs\n",
        "### Graph coloring\n",
        "### Network flows\n",
        "### Eulerian and Hamiltonian paths\n",
        "### Graph algorithms\n",
        "---\n",
        "## 3. Combinatorial Optimization (Discrete)\n",
        "### Linear programming\n",
        "### Integer programming\n",
        "### Network optimization\n",
        "### Matroid theory\n",
        "### Approximation algorithms\n",
        "### Polyhedral combinatorics\n",
        "### Cutting planes and branch-and-bound methods\n",
        "---"
      ]
    },
    {
      "cell_type": "code",
      "execution_count": null,
      "metadata": {
        "trusted": true
      },
      "outputs": [],
      "source": []
    }
  ],
  "metadata": {
    "kernelspec": {
      "display_name": "Python (Pyodide)",
      "language": "python",
      "name": "python"
    },
    "language_info": {
      "codemirror_mode": {
        "name": "python",
        "version": 3
      },
      "file_extension": ".py",
      "mimetype": "text/x-python",
      "name": "python",
      "nbconvert_exporter": "python",
      "pygments_lexer": "ipython3",
      "version": "3.8"
    }
  },
  "nbformat": 4,
  "nbformat_minor": 4
}
