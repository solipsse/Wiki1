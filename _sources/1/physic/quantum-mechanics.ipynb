{
  "cells": [
    {
      "cell_type": "markdown",
      "metadata": {},
      "source": [
        "> [Main Wiki](physic.md)"
      ]
    },
    {
      "cell_type": "markdown",
      "metadata": {},
      "source": [
        "# Quantum Mechanics\n",
        "## 1. Foundations\n",
        "### Wave-Particle Duality\n",
        "### Uncertainty Principle\n",
        "### Schrödinger Equation\n",
        "### Quantum Tunneling\n",
        "---\n",
        "## 2. Quantum States\n",
        "### Quantum Numbers\n",
        "### Atomic Orbitals\n",
        "### Spin\n",
        "---\n",
        "## 3. Advanced Topics\n",
        "### Quantum Field Theory\n",
        "### Quantum Computing\n",
        "### Quantum Cryptography\n",
        "---"
      ]
    }
  ],
  "metadata": {
    "kernelspec": {
      "display_name": "Python (Pyodide)",
      "language": "python",
      "name": "python"
    },
    "language_info": {
      "codemirror_mode": {
        "name": "python",
        "version": 3
      },
      "file_extension": ".py",
      "mimetype": "text/x-python",
      "name": "python",
      "nbconvert_exporter": "python",
      "pygments_lexer": "ipython3",
      "version": "3.8"
    }
  },
  "nbformat": 4,
  "nbformat_minor": 4
}
