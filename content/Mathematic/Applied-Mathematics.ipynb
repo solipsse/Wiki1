{
  "metadata": {
    "kernelspec": {
      "name": "python",
      "display_name": "Python (Pyodide)",
      "language": "python"
    },
    "language_info": {
      "codemirror_mode": {
        "name": "python",
        "version": 3
      },
      "file_extension": ".py",
      "mimetype": "text/x-python",
      "name": "python",
      "nbconvert_exporter": "python",
      "pygments_lexer": "ipython3",
      "version": "3.8"
    }
  },
  "nbformat_minor": 4,
  "nbformat": 4,
  "cells": [
    {
      "cell_type": "markdown",
      "source": "[Main Wiki](Math-wiki.ipynb)",
      "metadata": {}
    },
    {
      "cell_type": "markdown",
      "source": "# 1. Applied Mathematic\n## Numerical Analysis (Continuous)\n### Numerical solutions of equations\n### Interpolation and approximation\n### Numerical differentiation and integration\n### Numerical linear algebra\n### Numerical solutions of differential equations\n### Finite element method\n### Error analysis\n---\n## 2. Operations Research (Discrete)\n### Optimization techniques\n### Linear programming\n### Integer programming\n### Network models\n### Decision analysis\n### Queuing theory\n### Inventory theory\n---\n## 3. Mathematical Physics (Continuous)\n### Differential equations in physics\n### Classical mechanics\n### Quantum mechanics\n### Electromagnetic theory\n### Statistical mechanics\n### General relativity\n### Computational physics\n---",
      "metadata": {}
    }
  ]
}