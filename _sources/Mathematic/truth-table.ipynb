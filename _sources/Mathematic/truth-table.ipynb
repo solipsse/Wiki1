{
 "cells": [
  {
   "cell_type": "markdown",
   "metadata": {},
   "source": [
    "# Truth Table Reference\n",
    "## And\n",
    "| $p$ | $q$ | $p\\land q$ |  \n",
    "\n",
    "## Or\n",
    "\n",
    "## Xor\n",
    "\n",
    "## Not\n",
    "\n",
    "## ...implies..."
   ]
  }
 ],
 "metadata": {
  "language_info": {
   "name": "python"
  }
 },
 "nbformat": 4,
 "nbformat_minor": 2
}
