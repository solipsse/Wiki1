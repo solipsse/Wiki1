{
  "metadata": {
    "kernelspec": {
      "name": "python",
      "display_name": "Python (Pyodide)",
      "language": "python"
    },
    "language_info": {
      "codemirror_mode": {
        "name": "python",
        "version": 3
      },
      "file_extension": ".py",
      "mimetype": "text/x-python",
      "name": "python",
      "nbconvert_exporter": "python",
      "pygments_lexer": "ipython3",
      "version": "3.8"
    }
  },
  "nbformat_minor": 4,
  "nbformat": 4,
  "cells": [
    {
      "cell_type": "markdown",
      "source": "[Physic Wiki](Physic-wiki.ipynb)",
      "metadata": {}
    },
    {
      "cell_type": "markdown",
      "source": "# Biophysics\n## 1. Molecular Biophysics\n### Protein Folding\n### DNA/RNA Structure\n---\n## 2. Cell Biophysics\n### Membrane Dynamics\n### Cellular Mechanics\n---\n## 3. Medical Biophysics\n### Imaging Techniques\n### Radiation Therapy\n---",
      "metadata": {}
    }
  ]
}