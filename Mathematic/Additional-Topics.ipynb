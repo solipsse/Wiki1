{
  "metadata": {
    "kernelspec": {
      "name": "python",
      "display_name": "Python (Pyodide)",
      "language": "python"
    },
    "language_info": {
      "codemirror_mode": {
        "name": "python",
        "version": 3
      },
      "file_extension": ".py",
      "mimetype": "text/x-python",
      "name": "python",
      "nbconvert_exporter": "python",
      "pygments_lexer": "ipython3",
      "version": "3.8"
    }
  },
  "nbformat_minor": 4,
  "nbformat": 4,
  "cells": [
    {
      "cell_type": "markdown",
      "source": "[Main Wiki](Math-wiki.ipynb)",
      "metadata": {}
    },
    {
      "cell_type": "markdown",
      "source": "# Additional Topics\n## Game Theory (Discrete and Continuous)\n### Strategic Games\n### Extensive Games\n### Cooperative Games\n### Evolutionary Game Theory\n### Applications in Economics and Biology\n---\n## Information Theory (Discrete)\n### Entropy and Information\n### Data Compression\n### Channel Capacity\n### Error Correction\n### Cryptography\n---\n## Coding Theory (Discrete)\n### Linear Codes\n### Error-Detecting and Error-Correcting Codes\n### Cyclic Codes\n### Convolutional Codes\n### Applications in Data Transmission\n---",
      "metadata": {}
    },
    {
      "cell_type": "code",
      "source": "",
      "metadata": {
        "trusted": true
      },
      "outputs": [],
      "execution_count": null
    }
  ]
}