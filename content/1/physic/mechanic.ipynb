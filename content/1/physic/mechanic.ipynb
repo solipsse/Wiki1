{
  "cells": [
    {
      "cell_type": "markdown",
      "metadata": {},
      "source": [
        "> [Main Wiki](physic.md)"
      ]
    },
    {
      "cell_type": "markdown",
      "metadata": {},
      "source": [
        "# Mechanic\n",
        "## 1. Kinematics\n",
        "### 1D Motion $\\overrightarrow{suva}t$\n",
        "### 2D Projectile Motion (vertically and horizontally)\n",
        "### Uniform Circular Motion\n",
        "---\n",
        "## 2. Statics\n",
        "### Equilibrium\n",
        "### Center of Mass\n",
        "### Torque\n",
        "---\n",
        "## 3. Dynamic\n",
        "### Newton's Laws of Motion\n",
        "### Friction\n",
        "### Work, Energy, Power\n",
        "### Momentum and Collisions\n",
        "### Innertia and Momentum\n",
        "### Rotational Dynamics\n",
        "---"
      ]
    },
    {
      "cell_type": "markdown",
      "metadata": {},
      "source": [
        "## 2. Static"
      ]
    },
    {
      "cell_type": "markdown",
      "metadata": {
        "trusted": true
      },
      "source": [
        "## 3. Dynamic"
      ]
    }
  ],
  "metadata": {
    "kernelspec": {
      "display_name": "Python (Pyodide)",
      "language": "python",
      "name": "python"
    },
    "language_info": {
      "codemirror_mode": {
        "name": "python",
        "version": 3
      },
      "file_extension": ".py",
      "mimetype": "text/x-python",
      "name": "python",
      "nbconvert_exporter": "python",
      "pygments_lexer": "ipython3",
      "version": "3.8"
    }
  },
  "nbformat": 4,
  "nbformat_minor": 4
}
