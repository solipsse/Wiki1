{
  "cells": [
    {
      "attachments": {},
      "cell_type": "markdown",
      "metadata": {},
      "source": [
        "[CS Wiki](CS-wiki.ipynb)"
      ]
    },
    {
      "attachments": {},
      "cell_type": "markdown",
      "metadata": {},
      "source": [
        "# Computer Networks\n",
        "Have a look at\n",
        "* [Book1](https://www.ucg.ac.me/skladiste/blog_44233/objava_64433/fajlovi/Computer%20Networking%20_%20A%20Top%20Down%20Approach,%207th,%20converted.pdf)\n",
        "* [Book2](https://csc-knu.github.io/sys-prog/books/Andrew%20S.%20Tanenbaum%20-%20Computer%20Networks.pdf)\n",
        "## 1. Networking Basics\n",
        "### OSI Model\n",
        "The Open Systems Interconnection (OSI) model is a conceptual framework that divides network communications functions into seven layers. Sending data over a network is complex because various hardware and software technologies must work cohesively across geographical and political boundaries.\n",
        "\n",
        "\n",
        "### TCP/IP Model\n",
        "### IP Addressing\n",
        "---\n",
        "## 2. Networking Protocols\n",
        "### TCP Protocol Suite\n",
        "### Ethernet Protocol Suite\n",
        "---\n",
        "## 3. Wireless Networks\n",
        "### Wi-Fi Standards\n",
        "### Bluetooth\n",
        "### Cellular Networks\n",
        "---\n",
        "## 4. Network Security\n",
        "### Firewalls\n",
        "### VPNs\n",
        "### Intrusion Detection Systems\n",
        "---"
      ]
    },
    {
      "attachments": {},
      "cell_type": "markdown",
      "metadata": {},
      "source": []
    }
  ],
  "metadata": {
    "kernelspec": {
      "display_name": "Python (Pyodide)",
      "language": "python",
      "name": "python"
    },
    "language_info": {
      "codemirror_mode": {
        "name": "python",
        "version": 3
      },
      "file_extension": ".py",
      "mimetype": "text/x-python",
      "name": "python",
      "nbconvert_exporter": "python",
      "pygments_lexer": "ipython3",
      "version": "3.8"
    }
  },
  "nbformat": 4,
  "nbformat_minor": 4
}
