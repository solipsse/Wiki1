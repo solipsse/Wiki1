{
  "cells": [
    {
      "cell_type": "markdown",
      "metadata": {},
      "source": [
        "> [Main Wiki](physic.ipynb)"
      ]
    },
    {
      "cell_type": "markdown",
      "metadata": {},
      "source": [
        "# Acoustics\n",
        "## 1. Sound Waves\n",
        "### Wave Propagation\n",
        "### Sound Intensity\n",
        "---\n",
        "## 2. Hearing and Speech\n",
        "### Human Hearing\n",
        "### Acoustic Phonetics\n",
        "---\n",
        "## 3. Ultrasound\n",
        "### Medical Imaging\n",
        "### Sonar\n",
        "---"
      ]
    }
  ],
  "metadata": {
    "kernelspec": {
      "display_name": "Python (Pyodide)",
      "language": "python",
      "name": "python"
    },
    "language_info": {
      "codemirror_mode": {
        "name": "python",
        "version": 3
      },
      "file_extension": ".py",
      "mimetype": "text/x-python",
      "name": "python",
      "nbconvert_exporter": "python",
      "pygments_lexer": "ipython3",
      "version": "3.8"
    }
  },
  "nbformat": 4,
  "nbformat_minor": 4
}
