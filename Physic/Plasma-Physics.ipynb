{
  "metadata": {
    "kernelspec": {
      "name": "python",
      "display_name": "Python (Pyodide)",
      "language": "python"
    },
    "language_info": {
      "codemirror_mode": {
        "name": "python",
        "version": 3
      },
      "file_extension": ".py",
      "mimetype": "text/x-python",
      "name": "python",
      "nbconvert_exporter": "python",
      "pygments_lexer": "ipython3",
      "version": "3.8"
    }
  },
  "nbformat_minor": 4,
  "nbformat": 4,
  "cells": [
    {
      "cell_type": "markdown",
      "source": "[Physic Wiki](Physic-wiki.ipynb)",
      "metadata": {}
    },
    {
      "cell_type": "markdown",
      "source": "# Plasma Physics\n## 1. Plasma State\n### Properties of Plasma\n### Plasma Oscillations\n---\n## 2. Magnetic Confinement\n### Tokamaks\n### Stellarators\n---\n## 3. Plasma Applications\n### Fusion Energy\n### Space Plasmas\n---",
      "metadata": {}
    }
  ]
}